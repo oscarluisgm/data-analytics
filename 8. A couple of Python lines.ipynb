{
 "cells": [
  {
   "cell_type": "code",
   "execution_count": 4,
   "id": "15f6004d-1efe-456e-9428-df534c16d565",
   "metadata": {},
   "outputs": [],
   "source": [
    "#Variable argument function, we can pass as many arguments we want\n",
    "\n",
    "def add(*args):\n",
    "    return sum(args)"
   ]
  },
  {
   "cell_type": "code",
   "execution_count": 5,
   "id": "90d06ca4-0fca-41c3-873b-9f56747838c3",
   "metadata": {},
   "outputs": [
    {
     "data": {
      "text/plain": [
       "6"
      ]
     },
     "execution_count": 5,
     "metadata": {},
     "output_type": "execute_result"
    }
   ],
   "source": [
    "add(1,2,3)"
   ]
  },
  {
   "cell_type": "code",
   "execution_count": 6,
   "id": "5b486ff2-4069-4ee2-819c-7969103cb6fd",
   "metadata": {},
   "outputs": [
    {
     "data": {
      "text/plain": [
       "11"
      ]
     },
     "execution_count": 6,
     "metadata": {},
     "output_type": "execute_result"
    }
   ],
   "source": [
    "add(4,7)"
   ]
  },
  {
   "cell_type": "code",
   "execution_count": 9,
   "id": "53de56c7-80a3-44fc-90fc-52dbc3d29175",
   "metadata": {},
   "outputs": [
    {
     "data": {
      "text/plain": [
       "4"
      ]
     },
     "execution_count": 9,
     "metadata": {},
     "output_type": "execute_result"
    }
   ],
   "source": [
    "#Modulus \n",
    "4%9"
   ]
  },
  {
   "cell_type": "code",
   "execution_count": 12,
   "id": "f5acd2b4-f899-4742-bebe-c956b5cdcfbe",
   "metadata": {},
   "outputs": [
    {
     "data": {
      "text/plain": [
       "4"
      ]
     },
     "execution_count": 12,
     "metadata": {},
     "output_type": "execute_result"
    }
   ],
   "source": [
    "# ^ (POWER OF)\n",
    "2**2"
   ]
  },
  {
   "cell_type": "code",
   "execution_count": 14,
   "id": "64d2e568-f350-400f-8dad-a8cbb57c3ffd",
   "metadata": {
    "collapsed": true,
    "jupyter": {
     "outputs_hidden": true
    },
    "scrolled": true
   },
   "outputs": [
    {
     "ename": "TypeError",
     "evalue": "'>' not supported between instances of 'int' and 'str'",
     "output_type": "error",
     "traceback": [
      "\u001b[31m---------------------------------------------------------------------------\u001b[39m",
      "\u001b[31mTypeError\u001b[39m                                 Traceback (most recent call last)",
      "\u001b[36mCell\u001b[39m\u001b[36m \u001b[39m\u001b[32mIn[14]\u001b[39m\u001b[32m, line 3\u001b[39m\n\u001b[32m      1\u001b[39m \u001b[38;5;66;03m# In this case is strongly typed\u001b[39;00m\n\u001b[32m----> \u001b[39m\u001b[32m3\u001b[39m \u001b[32;43m8\u001b[39;49m\u001b[43m>\u001b[49m\u001b[33;43m\"\u001b[39;49m\u001b[33;43m5\u001b[39;49m\u001b[33;43m\"\u001b[39;49m \u001b[38;5;66;03m#TypeError\u001b[39;00m\n",
      "\u001b[31mTypeError\u001b[39m: '>' not supported between instances of 'int' and 'str'"
     ]
    }
   ],
   "source": [
    "# In this case is strongly typed\n",
    "\n",
    "8>\"5\" #TypeError"
   ]
  },
  {
   "cell_type": "code",
   "execution_count": 16,
   "id": "d1081ea2-fc32-4806-b47a-324969b32a38",
   "metadata": {},
   "outputs": [],
   "source": [
    "days_subscribed=30"
   ]
  },
  {
   "cell_type": "code",
   "execution_count": 17,
   "id": "da8e68c6-5bf8-4943-ad21-0b7237fd010e",
   "metadata": {},
   "outputs": [
    {
     "name": "stdout",
     "output_type": "stream",
     "text": [
      "Loyal Customer\n"
     ]
    }
   ],
   "source": [
    "## Python doesn't have a switch statement\n",
    "\n",
    "if days_subscribed>=30:\n",
    "    print(\"Loyal Customer\")\n",
    "elif days_subscribed>=15:\n",
    "    print(\"halfway there\")\n",
    "elif days_subscribed>=1:\n",
    "    print (\"Building confidence\")\n",
    "else:\n",
    "    print(\"too early\")"
   ]
  },
  {
   "cell_type": "code",
   "execution_count": 18,
   "id": "575ec69a-d052-4c7f-bb41-b0f16d1d7397",
   "metadata": {},
   "outputs": [],
   "source": [
    "names=[\"Monica\",\"Oscar\",\"Luis\"]"
   ]
  },
  {
   "cell_type": "code",
   "execution_count": 28,
   "id": "d1d47d51-9410-47fb-8ad1-eaafc9e6a355",
   "metadata": {},
   "outputs": [
    {
     "name": "stdout",
     "output_type": "stream",
     "text": [
      "(0, 'Monica')\n",
      "(1, 'Oscar')\n",
      "(2, 'Luis')\n"
     ]
    }
   ],
   "source": [
    "#for...in is like For...Each in other languages\n",
    "\n",
    "for x in enumerate(names):\n",
    "    print(x)"
   ]
  },
  {
   "cell_type": "code",
   "execution_count": 33,
   "id": "489cf07b-f0a8-421b-b3f5-1639ed9617fe",
   "metadata": {},
   "outputs": [],
   "source": [
    "#inicial\n",
    "Count=0"
   ]
  },
  {
   "cell_type": "code",
   "execution_count": 35,
   "id": "354d13a4-90e0-4c3a-9df1-df8d0b6b2909",
   "metadata": {},
   "outputs": [
    {
     "name": "stdout",
     "output_type": "stream",
     "text": [
      "Counting\n",
      "Counting\n",
      "Counting\n"
     ]
    }
   ],
   "source": [
    "while Count<3:\n",
    "    print(\"Counting\")\n",
    "    Count+=1 #paso para avanzar la iteración"
   ]
  },
  {
   "cell_type": "code",
   "execution_count": 36,
   "id": "1825c36b-08cb-4adf-beeb-aa5d088e81d4",
   "metadata": {},
   "outputs": [],
   "source": [
    "l=\"Python Master\""
   ]
  },
  {
   "cell_type": "code",
   "execution_count": 38,
   "id": "90e897b6-8a06-4a35-be68-c2b57529fb83",
   "metadata": {},
   "outputs": [
    {
     "data": {
      "text/plain": [
       "['Monica', 'Oscar', 'Luis', 'Python Master', 'Python Master']"
      ]
     },
     "execution_count": 38,
     "metadata": {},
     "output_type": "execute_result"
    }
   ],
   "source": [
    "names.append(l)\n",
    "names"
   ]
  },
  {
   "cell_type": "code",
   "execution_count": 39,
   "id": "40b8a261-3023-4c8d-a17f-10ded296f82c",
   "metadata": {},
   "outputs": [
    {
     "data": {
      "text/plain": [
       "'Python Master'"
      ]
     },
     "execution_count": 39,
     "metadata": {},
     "output_type": "execute_result"
    }
   ],
   "source": [
    "names[-1]"
   ]
  },
  {
   "cell_type": "code",
   "execution_count": 40,
   "id": "d4edd84c-deba-4f4a-bda1-4f3239e4fe60",
   "metadata": {},
   "outputs": [
    {
     "data": {
      "text/plain": [
       "True"
      ]
     },
     "execution_count": 40,
     "metadata": {},
     "output_type": "execute_result"
    }
   ],
   "source": [
    "\"Python Master\" in names"
   ]
  },
  {
   "cell_type": "code",
   "execution_count": 71,
   "id": "0c7df8ab-9499-4816-80fd-b95abae74e32",
   "metadata": {},
   "outputs": [],
   "source": [
    "### Dictionaries (like JSON) and Sets are unordered Data Structures, don't have index in spite of that Sets and Dict order by number and letter not by index\n",
    "#if we create DataFrames we can insert a Dictionary and then apply an order with index=[...]\n",
    "\n",
    "\n",
    "Dict={\"name\":\"oscar\",\n",
    "      \"lastname\":\"guerra\",\n",
    "      \"age\":\"25\",\n",
    "     }\n",
    "\n",
    "Set={1,1,2,2,3,3,5,4,16,25,30,78}\n"
   ]
  },
  {
   "cell_type": "code",
   "execution_count": 72,
   "id": "45e1a991-589e-4359-ada5-8ac906c34630",
   "metadata": {},
   "outputs": [
    {
     "data": {
      "text/plain": [
       "{1, 2, 3, 4, 5, 16, 25, 30, 78}"
      ]
     },
     "execution_count": 72,
     "metadata": {},
     "output_type": "execute_result"
    }
   ],
   "source": [
    "Set"
   ]
  },
  {
   "cell_type": "code",
   "execution_count": 73,
   "id": "e1900be7-d7f4-489d-86ce-c0696feb74ee",
   "metadata": {},
   "outputs": [],
   "source": [
    "Set.add(10)"
   ]
  },
  {
   "cell_type": "code",
   "execution_count": 74,
   "id": "280abaa8-407d-4a66-b0d5-2c9d751bcc16",
   "metadata": {},
   "outputs": [
    {
     "data": {
      "text/plain": [
       "{1, 2, 3, 4, 5, 10, 16, 25, 30, 78}"
      ]
     },
     "execution_count": 74,
     "metadata": {},
     "output_type": "execute_result"
    }
   ],
   "source": [
    "Set"
   ]
  },
  {
   "cell_type": "code",
   "execution_count": 75,
   "id": "3764145b-6efd-41cf-9732-7c27d56c9e05",
   "metadata": {},
   "outputs": [
    {
     "data": {
      "text/plain": [
       "1"
      ]
     },
     "execution_count": 75,
     "metadata": {},
     "output_type": "execute_result"
    }
   ],
   "source": [
    "Set.pop()"
   ]
  },
  {
   "cell_type": "code",
   "execution_count": 76,
   "id": "5f9bdca0-844b-4c18-a634-6740db415d97",
   "metadata": {},
   "outputs": [
    {
     "data": {
      "text/plain": [
       "{2, 3, 4, 5, 10, 16, 25, 30, 78}"
      ]
     },
     "execution_count": 76,
     "metadata": {},
     "output_type": "execute_result"
    }
   ],
   "source": [
    "Set"
   ]
  },
  {
   "cell_type": "code",
   "execution_count": 77,
   "id": "08926836-5e1d-4d8a-8028-af80273cc104",
   "metadata": {},
   "outputs": [
    {
     "data": {
      "text/plain": [
       "False"
      ]
     },
     "execution_count": 77,
     "metadata": {},
     "output_type": "execute_result"
    }
   ],
   "source": [
    "9 in Set"
   ]
  },
  {
   "cell_type": "code",
   "execution_count": 78,
   "id": "42f71b45-9b3e-4c1d-ac9d-a9e2c216f7cf",
   "metadata": {},
   "outputs": [
    {
     "data": {
      "text/plain": [
       "False"
      ]
     },
     "execution_count": 78,
     "metadata": {},
     "output_type": "execute_result"
    }
   ],
   "source": [
    "1 in Set"
   ]
  },
  {
   "cell_type": "code",
   "execution_count": 80,
   "id": "2e96420d-2c74-45ab-bd4b-ca6a5da3451d",
   "metadata": {},
   "outputs": [
    {
     "data": {
      "text/plain": [
       "True"
      ]
     },
     "execution_count": 80,
     "metadata": {},
     "output_type": "execute_result"
    }
   ],
   "source": [
    "#To check in Sets is way faster than in a list\n",
    "\n",
    "3 in Set"
   ]
  },
  {
   "cell_type": "code",
   "execution_count": 81,
   "id": "ab1e0655-94da-42c3-80ae-a36fb46bb66a",
   "metadata": {},
   "outputs": [
    {
     "name": "stdout",
     "output_type": "stream",
     "text": [
      "Name\n",
      "Lastname\n",
      "Age\n"
     ]
    }
   ],
   "source": [
    "for key in Dict:\n",
    "    print(key.title())"
   ]
  },
  {
   "cell_type": "code",
   "execution_count": 83,
   "id": "bef328b4-ff7f-466b-89f6-e258059002d1",
   "metadata": {},
   "outputs": [
    {
     "name": "stdout",
     "output_type": "stream",
     "text": [
      "Name ==> oscar\n",
      "Lastname ==> guerra\n",
      "Age ==> 25\n"
     ]
    }
   ],
   "source": [
    "for key in Dict:\n",
    "    print(key.title(),\"==>\", Dict[key])"
   ]
  },
  {
   "cell_type": "code",
   "execution_count": 84,
   "id": "5908678b-a410-4089-97e6-25cefb7e736a",
   "metadata": {},
   "outputs": [
    {
     "name": "stdout",
     "output_type": "stream",
     "text": [
      "oscar\n",
      "guerra\n",
      "25\n"
     ]
    }
   ],
   "source": [
    "for values in Dict.values():\n",
    "    print(values)"
   ]
  },
  {
   "cell_type": "code",
   "execution_count": 91,
   "id": "b71a63b8-2207-46e0-8b8b-3b175ed29978",
   "metadata": {},
   "outputs": [
    {
     "name": "stdout",
     "output_type": "stream",
     "text": [
      "name oscar\n",
      "lastname guerra\n",
      "age 25\n"
     ]
    }
   ],
   "source": [
    "for key,values in Dict.items():\n",
    "    print(key,values)"
   ]
  },
  {
   "cell_type": "code",
   "execution_count": 90,
   "id": "88ca0489-a7c2-4b87-9c57-63e64ed5a6be",
   "metadata": {},
   "outputs": [
    {
     "name": "stdout",
     "output_type": "stream",
     "text": [
      "name:oscar\n",
      "lastname:guerra\n",
      "age:25\n"
     ]
    }
   ],
   "source": [
    "for key,values in Dict.items():\n",
    "    print(f\"{key}:{values}\")"
   ]
  },
  {
   "cell_type": "code",
   "execution_count": 92,
   "id": "e6ced920-820f-4d2a-ab81-cb0907a30953",
   "metadata": {},
   "outputs": [
    {
     "name": "stdout",
     "output_type": "stream",
     "text": [
      "0\n",
      "1\n",
      "2\n",
      "3\n",
      "4\n"
     ]
    }
   ],
   "source": [
    "for i in range(5):\n",
    "    print(i)"
   ]
  },
  {
   "cell_type": "code",
   "execution_count": 93,
   "id": "76644e3e-0a6d-4a2a-b7f6-3e3973316cd5",
   "metadata": {},
   "outputs": [],
   "source": [
    "import random"
   ]
  },
  {
   "cell_type": "code",
   "execution_count": 95,
   "id": "f10d36ef-b3c6-4a00-a041-9da0280d60bb",
   "metadata": {},
   "outputs": [
    {
     "data": {
      "text/plain": [
       "80"
      ]
     },
     "execution_count": 95,
     "metadata": {},
     "output_type": "execute_result"
    }
   ],
   "source": [
    "random.randint(0,99)"
   ]
  },
  {
   "cell_type": "code",
   "execution_count": 96,
   "id": "7977d6d8-698e-4903-a92d-ad29044dab62",
   "metadata": {},
   "outputs": [],
   "source": [
    "age=\"30\""
   ]
  },
  {
   "cell_type": "code",
   "execution_count": 97,
   "id": "ee7b39c5-78b9-42c3-9978-a12dcb8e0e83",
   "metadata": {
    "collapsed": true,
    "jupyter": {
     "outputs_hidden": true
    },
    "scrolled": true
   },
   "outputs": [
    {
     "ename": "TypeError",
     "evalue": "'>' not supported between instances of 'str' and 'int'",
     "output_type": "error",
     "traceback": [
      "\u001b[31m---------------------------------------------------------------------------\u001b[39m",
      "\u001b[31mTypeError\u001b[39m                                 Traceback (most recent call last)",
      "\u001b[36mCell\u001b[39m\u001b[36m \u001b[39m\u001b[32mIn[97]\u001b[39m\u001b[32m, line 1\u001b[39m\n\u001b[32m----> \u001b[39m\u001b[32m1\u001b[39m \u001b[38;5;28;01mif\u001b[39;00m \u001b[43mage\u001b[49m\u001b[43m>\u001b[49m\u001b[32;43m21\u001b[39;49m:\n\u001b[32m      2\u001b[39m     \u001b[38;5;28mprint\u001b[39m(\u001b[33m\"\u001b[39m\u001b[33mallowed entrance\u001b[39m\u001b[33m\"\u001b[39m)\n",
      "\u001b[31mTypeError\u001b[39m: '>' not supported between instances of 'str' and 'int'"
     ]
    }
   ],
   "source": [
    "if age>21:\n",
    "    print(\"allowed entrance\")"
   ]
  },
  {
   "cell_type": "code",
   "execution_count": 102,
   "id": "d53f7e38-4c11-44c3-9e36-24c702ad0ba7",
   "metadata": {},
   "outputs": [
    {
     "name": "stdout",
     "output_type": "stream",
     "text": [
      "something went wrong\n"
     ]
    }
   ],
   "source": [
    "#try..except is like try...catch\n",
    "\n",
    "try:\n",
    "    if age>21:\n",
    "        print(\"allowed entrance\")\n",
    "except:\n",
    "    print(\"something went wrong\")"
   ]
  },
  {
   "cell_type": "code",
   "execution_count": 104,
   "id": "0e267035-62ca-46cb-8cf1-73fd9ce640d5",
   "metadata": {},
   "outputs": [
    {
     "name": "stdout",
     "output_type": "stream",
     "text": [
      "something went wrong\n"
     ]
    }
   ],
   "source": [
    "try:\n",
    "    if age>21:\n",
    "        print(\"allowed entrance\")\n",
    "except TypeError:              #name it to be more explicit can be whatever you know \n",
    "    print(\"something went wrong\")"
   ]
  },
  {
   "cell_type": "code",
   "execution_count": null,
   "id": "c146b9b4-8c60-4de2-a9e1-ba06f425d42d",
   "metadata": {},
   "outputs": [],
   "source": []
  }
 ],
 "metadata": {
  "kernelspec": {
   "display_name": "dataAnalytics",
   "language": "python",
   "name": "dataanalytics"
  },
  "language_info": {
   "codemirror_mode": {
    "name": "ipython",
    "version": 3
   },
   "file_extension": ".py",
   "mimetype": "text/x-python",
   "name": "python",
   "nbconvert_exporter": "python",
   "pygments_lexer": "ipython3",
   "version": "3.12.7"
  }
 },
 "nbformat": 4,
 "nbformat_minor": 5
}
