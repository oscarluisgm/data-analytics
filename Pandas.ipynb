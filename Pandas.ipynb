{
 "cells": [
  {
   "cell_type": "markdown",
   "id": "7d44b33d-20b3-41f6-b91d-d85794800079",
   "metadata": {},
   "source": [
    "# PANDAS LIBRARY"
   ]
  },
  {
   "cell_type": "code",
   "execution_count": 1,
   "id": "6f3d9c28-e87a-40fd-af76-cc9148fd7f51",
   "metadata": {},
   "outputs": [],
   "source": [
    "import sys\n",
    "sys.path.append('/home/oscar/py_envs/lib/python3.12/site-packages')"
   ]
  },
  {
   "cell_type": "code",
   "execution_count": 2,
   "id": "3687ddc6-dcb1-40e7-a942-7274eef593c8",
   "metadata": {},
   "outputs": [],
   "source": [
    "import pandas as pd"
   ]
  },
  {
   "cell_type": "code",
   "execution_count": 3,
   "id": "4dcb9d84-24dd-45ea-bee1-9c8741af2974",
   "metadata": {},
   "outputs": [],
   "source": [
    "import numpy as np"
   ]
  },
  {
   "cell_type": "markdown",
   "id": "7c2f2de2-258f-4a3a-9e12-0c2534347bc2",
   "metadata": {},
   "source": [
    "## Series"
   ]
  },
  {
   "cell_type": "code",
   "execution_count": 5,
   "id": "feb8b7b1-f619-4585-9594-3e7822d97c47",
   "metadata": {},
   "outputs": [],
   "source": [
    "# In millions\n",
    "\n",
    "g7_pop=pd.Series([35.467,69.951,80.940,60.665,127.061,64.511,318.523])"
   ]
  },
  {
   "cell_type": "code",
   "execution_count": 6,
   "id": "25118a51-0cc2-4e63-86e6-84e7e1872e82",
   "metadata": {},
   "outputs": [
    {
     "data": {
      "text/plain": [
       "0     35.467\n",
       "1     69.951\n",
       "2     80.940\n",
       "3     60.665\n",
       "4    127.061\n",
       "5     64.511\n",
       "6    318.523\n",
       "dtype: float64"
      ]
     },
     "execution_count": 6,
     "metadata": {},
     "output_type": "execute_result"
    }
   ],
   "source": [
    "g7_pop"
   ]
  },
  {
   "cell_type": "code",
   "execution_count": 8,
   "id": "fd8f617a-19e3-4363-9f1a-9d8f4a0e50b4",
   "metadata": {},
   "outputs": [],
   "source": [
    "g7_pop.name=\"Population of G7 Countries\""
   ]
  },
  {
   "cell_type": "code",
   "execution_count": 9,
   "id": "37702885-631a-4825-ab53-e3a0c699b8ca",
   "metadata": {},
   "outputs": [
    {
     "data": {
      "text/plain": [
       "0     35.467\n",
       "1     69.951\n",
       "2     80.940\n",
       "3     60.665\n",
       "4    127.061\n",
       "5     64.511\n",
       "6    318.523\n",
       "Name: Population of G7 Countries, dtype: float64"
      ]
     },
     "execution_count": 9,
     "metadata": {},
     "output_type": "execute_result"
    }
   ],
   "source": [
    "g7_pop"
   ]
  },
  {
   "cell_type": "markdown",
   "id": "d83823af-aa5d-4907-9000-35bc431cbfd4",
   "metadata": {},
   "source": [
    "NOTE: Series are pretty similar to NumPy arrays"
   ]
  },
  {
   "cell_type": "markdown",
   "id": "5bdd9b4e-1320-4ff4-982f-c9aa6e183efe",
   "metadata": {},
   "source": [
    "The underline object in which pandas stores the type of structure (Series) is a NumPy array, data is backed in NumPy array"
   ]
  },
  {
   "cell_type": "code",
   "execution_count": 10,
   "id": "064de05f-82c5-4cd9-a14d-680a64cf81e9",
   "metadata": {},
   "outputs": [
    {
     "data": {
      "text/plain": [
       "array([ 35.467,  69.951,  80.94 ,  60.665, 127.061,  64.511, 318.523])"
      ]
     },
     "execution_count": 10,
     "metadata": {},
     "output_type": "execute_result"
    }
   ],
   "source": [
    "g7_pop.values"
   ]
  },
  {
   "cell_type": "markdown",
   "id": "1cd2112c-6749-41c3-965c-1e74c2b3a6a2",
   "metadata": {},
   "source": [
    "### How to ask the type of the data structure (different to .dtype -data type itself-)"
   ]
  },
  {
   "cell_type": "code",
   "execution_count": 12,
   "id": "d3c6c466-0187-4121-8808-48a2d6b45d67",
   "metadata": {},
   "outputs": [
    {
     "data": {
      "text/plain": [
       "numpy.ndarray"
      ]
     },
     "execution_count": 12,
     "metadata": {},
     "output_type": "execute_result"
    }
   ],
   "source": [
    "type(g7_pop.values)"
   ]
  },
  {
   "cell_type": "markdown",
   "id": "62d28483-816b-4da8-b475-e1e8ace014fe",
   "metadata": {},
   "source": [
    "## Series Indexing"
   ]
  },
  {
   "cell_type": "code",
   "execution_count": 13,
   "id": "da5126b9-2e5f-4643-a6a2-49838b422ee7",
   "metadata": {},
   "outputs": [
    {
     "data": {
      "text/plain": [
       "RangeIndex(start=0, stop=7, step=1)"
      ]
     },
     "execution_count": 13,
     "metadata": {},
     "output_type": "execute_result"
    }
   ],
   "source": [
    "g7_pop.index"
   ]
  },
  {
   "cell_type": "code",
   "execution_count": 15,
   "id": "15c199dd-a220-4459-bf79-313d1258dfae",
   "metadata": {},
   "outputs": [],
   "source": [
    "g7_pop.index=[\n",
    "    \"Canada\",\n",
    "    \"France\",\n",
    "    \"Germany\",\n",
    "    \"Italy\",\n",
    "    \"Japan\",\n",
    "    \"United Kingdom\",\n",
    "    \"United States\"    \n",
    "]"
   ]
  },
  {
   "cell_type": "code",
   "execution_count": 16,
   "id": "f33a82d0-36bc-4e46-ba7f-474d4379fcb2",
   "metadata": {},
   "outputs": [
    {
     "data": {
      "text/plain": [
       "Canada             35.467\n",
       "France             69.951\n",
       "Germany            80.940\n",
       "Italy              60.665\n",
       "Japan             127.061\n",
       "United Kingdom     64.511\n",
       "United States     318.523\n",
       "Name: Population of G7 Countries, dtype: float64"
      ]
     },
     "execution_count": 16,
     "metadata": {},
     "output_type": "execute_result"
    }
   ],
   "source": [
    "g7_pop"
   ]
  },
  {
   "cell_type": "code",
   "execution_count": 17,
   "id": "d2333fc0-e61c-4442-9690-606706fd3f9e",
   "metadata": {},
   "outputs": [
    {
     "data": {
      "text/plain": [
       "Canada             35.467\n",
       "France             69.951\n",
       "Germany            80.940\n",
       "Italy              60.665\n",
       "Japan             127.061\n",
       "United Kingdom     64.511\n",
       "United States     318.523\n",
       "Name: G7 Population in millions, dtype: float64"
      ]
     },
     "execution_count": 17,
     "metadata": {},
     "output_type": "execute_result"
    }
   ],
   "source": [
    "pd.Series([35.467,69.951,80.940,60.665,127.061,64.511,318.523],\n",
    "    index=[\"Canada\",\n",
    "    \"France\",\n",
    "    \"Germany\",\n",
    "    \"Italy\",\n",
    "    \"Japan\",\n",
    "    \"United Kingdom\",\n",
    "    \"United States\"], name=\"G7 Population in millions\"    \n",
    ")"
   ]
  },
  {
   "cell_type": "code",
   "execution_count": 18,
   "id": "40d40774-3ad0-4dfc-b6a9-d839b541c6f2",
   "metadata": {},
   "outputs": [
    {
     "data": {
      "text/plain": [
       "Canada             35.467\n",
       "France             69.951\n",
       "Germany            80.940\n",
       "Italy              60.665\n",
       "Japan             127.061\n",
       "United Kingdom     64.511\n",
       "United States     318.523\n",
       "Name: population of G7 in millions, dtype: float64"
      ]
     },
     "execution_count": 18,
     "metadata": {},
     "output_type": "execute_result"
    }
   ],
   "source": [
    "pd.Series(\n",
    "    {\"Canada\":35.467,\n",
    "    \"France\":69.951,\n",
    "    \"Germany\":80.940,\n",
    "    \"Italy\":60.665,\n",
    "    \"Japan\":127.061,\n",
    "    \"United Kingdom\":64.511,\n",
    "    \"United States\":318.523     \n",
    "    }, name=\"population of G7 in millions\"\n",
    "    \n",
    ")"
   ]
  },
  {
   "cell_type": "code",
   "execution_count": 20,
   "id": "1a4a3f1b-1fdf-4022-a55f-e6c8ce8d145d",
   "metadata": {},
   "outputs": [
    {
     "data": {
      "text/plain": [
       "Germany           80.940\n",
       "Italy             60.665\n",
       "Japan            127.061\n",
       "United States    318.523\n",
       "Name: Population of G7 Countries, dtype: float64"
      ]
     },
     "execution_count": 20,
     "metadata": {},
     "output_type": "execute_result"
    }
   ],
   "source": [
    "pd.Series(g7_pop, index=[\"Germany\",\"Italy\",\"Japan\",\"United States\"])"
   ]
  },
  {
   "cell_type": "code",
   "execution_count": 23,
   "id": "5d77981a-d9cb-4f6e-897b-c6a89df787b8",
   "metadata": {},
   "outputs": [
    {
     "data": {
      "text/plain": [
       "np.float64(35.467)"
      ]
     },
     "execution_count": 23,
     "metadata": {},
     "output_type": "execute_result"
    }
   ],
   "source": [
    "g7_pop.iloc[0] "
   ]
  },
  {
   "cell_type": "code",
   "execution_count": 25,
   "id": "6693fd9a-7ed8-4549-b49c-fb776724db6d",
   "metadata": {},
   "outputs": [
    {
     "data": {
      "text/plain": [
       "np.float64(318.523)"
      ]
     },
     "execution_count": 25,
     "metadata": {},
     "output_type": "execute_result"
    }
   ],
   "source": [
    "g7_pop.iloc[6] "
   ]
  },
  {
   "cell_type": "code",
   "execution_count": 26,
   "id": "9377b24b-18f4-45c1-8cc0-755038dc7f64",
   "metadata": {},
   "outputs": [
    {
     "data": {
      "text/plain": [
       "np.float64(35.467)"
      ]
     },
     "execution_count": 26,
     "metadata": {},
     "output_type": "execute_result"
    }
   ],
   "source": [
    "g7_pop[\"Canada\"]"
   ]
  },
  {
   "cell_type": "code",
   "execution_count": 27,
   "id": "366074b4-60d0-4656-9123-c770c0dcde53",
   "metadata": {},
   "outputs": [
    {
     "data": {
      "text/plain": [
       "np.float64(318.523)"
      ]
     },
     "execution_count": 27,
     "metadata": {},
     "output_type": "execute_result"
    }
   ],
   "source": [
    "g7_pop[\"United States\"]"
   ]
  },
  {
   "cell_type": "markdown",
   "id": "f38d3ea8-a9f5-467a-aa41-3b408c7cf1d0",
   "metadata": {},
   "source": [
    "### Multi-indexing like NumPy"
   ]
  },
  {
   "cell_type": "code",
   "execution_count": 28,
   "id": "20cd2b00-1cb3-4c37-921d-9ab341568a71",
   "metadata": {},
   "outputs": [
    {
     "data": {
      "text/plain": [
       "Canada            35.467\n",
       "United States    318.523\n",
       "Name: Population of G7 Countries, dtype: float64"
      ]
     },
     "execution_count": 28,
     "metadata": {},
     "output_type": "execute_result"
    }
   ],
   "source": [
    "g7_pop[[\"Canada\",\"United States\"]]"
   ]
  },
  {
   "cell_type": "code",
   "execution_count": null,
   "id": "08193500-20a4-45fd-afe6-16f3e8735bb5",
   "metadata": {},
   "outputs": [],
   "source": []
  }
 ],
 "metadata": {
  "kernelspec": {
   "display_name": "dataAnalytics",
   "language": "python",
   "name": "dataanalytics"
  },
  "language_info": {
   "codemirror_mode": {
    "name": "ipython",
    "version": 3
   },
   "file_extension": ".py",
   "mimetype": "text/x-python",
   "name": "python",
   "nbconvert_exporter": "python",
   "pygments_lexer": "ipython3",
   "version": "3.12.7"
  }
 },
 "nbformat": 4,
 "nbformat_minor": 5
}
