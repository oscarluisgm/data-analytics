{
 "cells": [
  {
   "cell_type": "code",
   "execution_count": 4,
   "id": "0f1654f2-b901-4392-83da-939d836d9b9d",
   "metadata": {},
   "outputs": [],
   "source": [
    "import sys\n",
    "sys.path.append('/home/oscar/py_envs/lib/python3.12/site-packages')"
   ]
  },
  {
   "cell_type": "code",
   "execution_count": 5,
   "id": "2fc4ffaa-b97b-41f2-acab-707b8c0776db",
   "metadata": {},
   "outputs": [],
   "source": [
    "import matplotlib.pyplot as plt\n",
    "import numpy as np"
   ]
  },
  {
   "cell_type": "code",
   "execution_count": 12,
   "id": "ddc6fab6-5907-497a-b5e0-022ec1f51ac3",
   "metadata": {},
   "outputs": [],
   "source": [
    "writer= pd.ExcelWriter(\"cryptos.xlsx\", engine='openpyxl')"
   ]
  },
  {
   "cell_type": "markdown",
   "id": "0b432846-f649-4032-be00-79a78776f7ca",
   "metadata": {},
   "source": [
    "### we'll now write both our Bitcoin and Ether data as separate sheets:"
   ]
  },
  {
   "cell_type": "code",
   "execution_count": null,
   "id": "dcccd4cc-4ac1-4d69-a13e-21ba1e7cd271",
   "metadata": {},
   "outputs": [],
   "source": [
    "btc.to_excel(writer, sheet_name=\"Bitcoin\")"
   ]
  },
  {
   "cell_type": "code",
   "execution_count": null,
   "id": "e5013f12-227d-4365-9f4c-66dbbce0e41b",
   "metadata": {},
   "outputs": [],
   "source": [
    "eth.to_excel(writer, sheet_name=\"Eth\")"
   ]
  },
  {
   "cell_type": "code",
   "execution_count": null,
   "id": "923a9985-91a4-4fff-8029-8470e8e73cf7",
   "metadata": {},
   "outputs": [],
   "source": [
    "writer.close()"
   ]
  },
  {
   "cell_type": "markdown",
   "id": "1184053c-29c3-41e0-b818-56ddc618b929",
   "metadata": {},
   "source": [
    "# NumPy"
   ]
  },
  {
   "cell_type": "code",
   "execution_count": 12,
   "id": "4628e529-7b35-46c7-a703-f9fb3e78fc98",
   "metadata": {},
   "outputs": [],
   "source": [
    "import numpy as np"
   ]
  },
  {
   "cell_type": "code",
   "execution_count": null,
   "id": "7898e922-ed94-4697-903b-6e602cfa1f74",
   "metadata": {},
   "outputs": [],
   "source": [
    "n=3"
   ]
  },
  {
   "cell_type": "markdown",
   "id": "ee02de2f-6d63-4e6b-bc77-c32aea174ec8",
   "metadata": {},
   "source": [
    "2**n=d\n",
    "n=bits\n",
    "d=decimals"
   ]
  },
  {
   "cell_type": "code",
   "execution_count": null,
   "id": "605c80ba-1135-4358-950a-1b55110cde6e",
   "metadata": {
    "scrolled": true
   },
   "outputs": [],
   "source": [
    "2**n"
   ]
  },
  {
   "cell_type": "markdown",
   "id": "5ff4477d-b4ed-4488-9578-47d1828f79d7",
   "metadata": {},
   "source": [
    "8bits=1byte"
   ]
  },
  {
   "cell_type": "code",
   "execution_count": null,
   "id": "fb6cf5d7-e291-4924-b392-8ebf3b0129a1",
   "metadata": {},
   "outputs": [],
   "source": [
    "2**32"
   ]
  },
  {
   "cell_type": "code",
   "execution_count": null,
   "id": "fde8e669-1a0a-4213-bdbb-766c4903dd49",
   "metadata": {},
   "outputs": [],
   "source": [
    "np.int8"
   ]
  },
  {
   "cell_type": "code",
   "execution_count": null,
   "id": "09decffd-6cc0-4900-b3ec-d1a25f30a683",
   "metadata": {},
   "outputs": [],
   "source": [
    "np.array([1,2,3,4])"
   ]
  },
  {
   "cell_type": "code",
   "execution_count": 19,
   "id": "6cc4a12e-3de3-4e24-9130-dab5ff04085b",
   "metadata": {},
   "outputs": [],
   "source": [
    "a=np.array([1,2,3,4,5,6])"
   ]
  },
  {
   "cell_type": "code",
   "execution_count": 14,
   "id": "b1e73eb2-d939-4c01-be59-0bb693e9c3c4",
   "metadata": {},
   "outputs": [],
   "source": [
    "b=np.array([0,1,2,2.5])"
   ]
  },
  {
   "cell_type": "code",
   "execution_count": null,
   "id": "f4889b68-2676-4766-b2a0-df721d113888",
   "metadata": {},
   "outputs": [],
   "source": [
    "a[0], a[1]"
   ]
  },
  {
   "cell_type": "code",
   "execution_count": null,
   "id": "3fffde49-26a2-49a0-a6ab-7a0c061f08c2",
   "metadata": {},
   "outputs": [],
   "source": [
    "a[1:3]"
   ]
  },
  {
   "cell_type": "code",
   "execution_count": null,
   "id": "7f466c9b-6ae8-4859-b9fc-2737c5e17679",
   "metadata": {},
   "outputs": [],
   "source": [
    "a[1:-1]"
   ]
  },
  {
   "cell_type": "code",
   "execution_count": null,
   "id": "e8004101-2b50-4911-82c5-206bcaec3a21",
   "metadata": {},
   "outputs": [],
   "source": [
    "a[::2]"
   ]
  },
  {
   "cell_type": "code",
   "execution_count": 15,
   "id": "958e9958-c80f-41f2-bf84-fded2b740b7f",
   "metadata": {},
   "outputs": [
    {
     "data": {
      "text/plain": [
       "(np.float64(0.0), np.float64(2.0))"
      ]
     },
     "execution_count": 15,
     "metadata": {},
     "output_type": "execute_result"
    }
   ],
   "source": [
    "b[0],b[2]"
   ]
  },
  {
   "cell_type": "markdown",
   "id": "f80a4024-41d0-4d52-9310-44df4ce6bae4",
   "metadata": {},
   "source": [
    "## How to Force a NumPy Array Output"
   ]
  },
  {
   "cell_type": "code",
   "execution_count": 16,
   "id": "ec97f394-4c8d-41c1-9202-16b6fb0458cb",
   "metadata": {},
   "outputs": [
    {
     "data": {
      "text/plain": [
       "array([0. , 2. , 2.5])"
      ]
     },
     "execution_count": 16,
     "metadata": {},
     "output_type": "execute_result"
    }
   ],
   "source": [
    "b[[0,2,-1]]"
   ]
  },
  {
   "cell_type": "markdown",
   "id": "40e79af1-b44e-4706-be19-9ed03fa06f79",
   "metadata": {},
   "source": [
    "## Array types"
   ]
  },
  {
   "cell_type": "code",
   "execution_count": 20,
   "id": "86b934e8-2c90-46cb-a936-08840cb1302d",
   "metadata": {},
   "outputs": [
    {
     "data": {
      "text/plain": [
       "array([1, 2, 3, 4, 5, 6])"
      ]
     },
     "execution_count": 20,
     "metadata": {},
     "output_type": "execute_result"
    }
   ],
   "source": [
    "a"
   ]
  },
  {
   "cell_type": "code",
   "execution_count": 21,
   "id": "ae7646b1-1e23-49a2-aa74-77a5147bb8e8",
   "metadata": {},
   "outputs": [
    {
     "data": {
      "text/plain": [
       "dtype('int64')"
      ]
     },
     "execution_count": 21,
     "metadata": {},
     "output_type": "execute_result"
    }
   ],
   "source": [
    "a.dtype"
   ]
  },
  {
   "cell_type": "code",
   "execution_count": null,
   "id": "904df227-23e1-4407-9de7-896de68ee064",
   "metadata": {},
   "outputs": [],
   "source": [
    "np.array([1,2,3,4], dtype=float)"
   ]
  },
  {
   "cell_type": "markdown",
   "id": "38e90424-84cd-4047-8d95-6b0f3823c5a7",
   "metadata": {},
   "source": [
    "**\"np.float\" was deprecated and insted use just \"float\"**"
   ]
  },
  {
   "cell_type": "code",
   "execution_count": null,
   "id": "1eff5270-0f44-40ae-a392-08be382332e8",
   "metadata": {},
   "outputs": [],
   "source": [
    "np.array([1,2,3,4], dtype=np.int8)"
   ]
  },
  {
   "cell_type": "markdown",
   "id": "4e8d5bca-c62f-4f39-918f-2fd445082d51",
   "metadata": {},
   "source": [
    "# Unicode "
   ]
  },
  {
   "cell_type": "code",
   "execution_count": 8,
   "id": "35de91d2-1cbf-4005-9eb9-2c55d1d68cb8",
   "metadata": {},
   "outputs": [
    {
     "data": {
      "text/plain": [
       "array(['a', 'b', 'c'], dtype='<U1')"
      ]
     },
     "execution_count": 8,
     "metadata": {},
     "output_type": "execute_result"
    }
   ],
   "source": [
    "np.array([\"a\",\"b\",\"cc\"], dtype=\"<U1\")"
   ]
  },
  {
   "cell_type": "markdown",
   "id": "457e3aa1-cb04-4db2-8585-987dd5b3a248",
   "metadata": {},
   "source": [
    "**NOTE: NumPy stores numbers, dates, booleans but not regular individual objects**"
   ]
  },
  {
   "cell_type": "code",
   "execution_count": 9,
   "id": "b7f4ae47-eb4c-4158-9db4-0b4c102c8244",
   "metadata": {},
   "outputs": [],
   "source": [
    "d=np.array([{\"a\":1}, sys])"
   ]
  },
  {
   "cell_type": "code",
   "execution_count": 10,
   "id": "7cf4d91a-42b4-46ed-9af7-3cee7a35eeeb",
   "metadata": {},
   "outputs": [
    {
     "data": {
      "text/plain": [
       "dtype('O')"
      ]
     },
     "execution_count": 10,
     "metadata": {},
     "output_type": "execute_result"
    }
   ],
   "source": [
    "d.dtype"
   ]
  },
  {
   "cell_type": "markdown",
   "id": "9444d97b-ae88-4848-930b-ddc3c59af369",
   "metadata": {},
   "source": [
    "## Dimensions and shapes"
   ]
  },
  {
   "cell_type": "code",
   "execution_count": 14,
   "id": "3949fea5-4656-427f-9a78-494ac19f6821",
   "metadata": {},
   "outputs": [],
   "source": [
    "A=np.array([\n",
    "    [1,2,3,4],\n",
    "    [2,3,4,5]\n",
    "])"
   ]
  },
  {
   "cell_type": "code",
   "execution_count": null,
   "id": "a348efc7-0727-4c25-8ec1-ca55292131f7",
   "metadata": {},
   "outputs": [],
   "source": [
    "A.dtype"
   ]
  },
  {
   "cell_type": "code",
   "execution_count": null,
   "id": "8c133579-4bac-4a69-9886-f4a218afee46",
   "metadata": {},
   "outputs": [],
   "source": [
    "A.shape"
   ]
  },
  {
   "cell_type": "code",
   "execution_count": null,
   "id": "18fa4608-26ae-41a6-9cb2-3941072266f8",
   "metadata": {},
   "outputs": [],
   "source": [
    "A.ndim"
   ]
  },
  {
   "cell_type": "code",
   "execution_count": null,
   "id": "9f36981a-36e7-4273-b09b-c8f2b0706ac2",
   "metadata": {},
   "outputs": [],
   "source": [
    "A.size"
   ]
  },
  {
   "cell_type": "code",
   "execution_count": 12,
   "id": "d8c52481-3274-4d37-ba76-495c8b218f9f",
   "metadata": {},
   "outputs": [
    {
     "ename": "NameError",
     "evalue": "name 'A' is not defined",
     "output_type": "error",
     "traceback": [
      "\u001b[31m---------------------------------------------------------------------------\u001b[39m",
      "\u001b[31mNameError\u001b[39m                                 Traceback (most recent call last)",
      "\u001b[36mCell\u001b[39m\u001b[36m \u001b[39m\u001b[32mIn[12]\u001b[39m\u001b[32m, line 1\u001b[39m\n\u001b[32m----> \u001b[39m\u001b[32m1\u001b[39m \u001b[43mA\u001b[49m[\u001b[32m1\u001b[39m]=np.array([\u001b[32m10\u001b[39m,\u001b[32m10\u001b[39m,\u001b[32m10\u001b[39m,\u001b[32m10\u001b[39m])\n",
      "\u001b[31mNameError\u001b[39m: name 'A' is not defined"
     ]
    }
   ],
   "source": [
    "A[1]=np.array([10,10,10,10])"
   ]
  },
  {
   "cell_type": "code",
   "execution_count": 13,
   "id": "26a37a44-a019-4679-8553-270034de1a23",
   "metadata": {},
   "outputs": [
    {
     "ename": "NameError",
     "evalue": "name 'A' is not defined",
     "output_type": "error",
     "traceback": [
      "\u001b[31m---------------------------------------------------------------------------\u001b[39m",
      "\u001b[31mNameError\u001b[39m                                 Traceback (most recent call last)",
      "\u001b[36mCell\u001b[39m\u001b[36m \u001b[39m\u001b[32mIn[13]\u001b[39m\u001b[32m, line 1\u001b[39m\n\u001b[32m----> \u001b[39m\u001b[32m1\u001b[39m \u001b[43mA\u001b[49m\n",
      "\u001b[31mNameError\u001b[39m: name 'A' is not defined"
     ]
    }
   ],
   "source": [
    "A"
   ]
  },
  {
   "cell_type": "markdown",
   "id": "94daccfe-1e34-47fa-ad77-cf303d0ddafc",
   "metadata": {},
   "source": [
    "**The example below says, take all rows and only columns 0 and 1 because the upper limit 2 is not included**"
   ]
  },
  {
   "cell_type": "code",
   "execution_count": 15,
   "id": "24a4b32d-16a2-4a4f-ac85-0f497a583c4f",
   "metadata": {},
   "outputs": [
    {
     "data": {
      "text/plain": [
       "array([[1, 2],\n",
       "       [2, 3]])"
      ]
     },
     "execution_count": 15,
     "metadata": {},
     "output_type": "execute_result"
    }
   ],
   "source": [
    "A[:,:2]"
   ]
  },
  {
   "cell_type": "code",
   "execution_count": null,
   "id": "5253033a-5ef1-401b-b33a-f41cf194626c",
   "metadata": {},
   "outputs": [],
   "source": [
    "B=np.array([\n",
    "    [[1,2,3],\n",
    "     [2,3,4]],\n",
    "    [[4,5,6],\n",
    "     [6,7,8]]\n",
    "])"
   ]
  },
  {
   "cell_type": "code",
   "execution_count": null,
   "id": "9aa2fda1-f5fb-4fba-9a93-e1d07a59c69d",
   "metadata": {},
   "outputs": [],
   "source": [
    "B.shape"
   ]
  },
  {
   "cell_type": "code",
   "execution_count": null,
   "id": "9d9fb16a-6d91-497d-bcc1-9a1cc74dd5cc",
   "metadata": {},
   "outputs": [],
   "source": [
    "B.ndim"
   ]
  },
  {
   "cell_type": "markdown",
   "id": "f30e8530-cf66-4c1f-a052-a1dad043268c",
   "metadata": {},
   "source": [
    "## IMPORTANT NOTE: This type of array in 3D has to be symetric, if you have two blocks these must have the same amount of columns and rows because NumPy doesn't read it and doesn't store it"
   ]
  },
  {
   "cell_type": "markdown",
   "id": "8757b04f-a778-486f-860b-72e13e420dbf",
   "metadata": {},
   "source": [
    "# STATISTICS WITH NUMPY"
   ]
  },
  {
   "cell_type": "code",
   "execution_count": null,
   "id": "bba9ebf6-2033-459d-b778-047c7f606e67",
   "metadata": {},
   "outputs": [],
   "source": [
    "C=np.array([\n",
    "    [1,2,3,4],\n",
    "    [2,3,4,5],\n",
    "    [6,7,8,9]\n",
    "])"
   ]
  },
  {
   "cell_type": "code",
   "execution_count": null,
   "id": "aaf94195-bc0c-4bd8-9764-3e2dfbb3da25",
   "metadata": {},
   "outputs": [],
   "source": [
    "C.sum(axis=0)"
   ]
  },
  {
   "cell_type": "code",
   "execution_count": null,
   "id": "2ba93221-dced-4238-b79d-4f0e8647b17c",
   "metadata": {},
   "outputs": [],
   "source": [
    "C.sum(axis=1)"
   ]
  },
  {
   "cell_type": "code",
   "execution_count": null,
   "id": "3ef3b459-30f1-4b1e-9079-971f35fe1e38",
   "metadata": {},
   "outputs": [],
   "source": [
    "C.mean()"
   ]
  },
  {
   "cell_type": "code",
   "execution_count": null,
   "id": "6a7dc7ce-c254-4efc-8e18-68bd3d4efbe1",
   "metadata": {},
   "outputs": [],
   "source": [
    "C.std()"
   ]
  },
  {
   "cell_type": "code",
   "execution_count": null,
   "id": "45744d0e-2d7c-4473-ac61-f4ebde33fe92",
   "metadata": {},
   "outputs": [],
   "source": [
    "C.std(axis=1)"
   ]
  },
  {
   "cell_type": "code",
   "execution_count": null,
   "id": "4b547014-cda5-462a-b6e2-4f2a7ba4b85c",
   "metadata": {},
   "outputs": [],
   "source": [
    "C.min()"
   ]
  },
  {
   "cell_type": "code",
   "execution_count": null,
   "id": "59bdac7a-4ce5-42d6-82c3-d30be12c4ec6",
   "metadata": {},
   "outputs": [],
   "source": [
    "C.max()"
   ]
  },
  {
   "cell_type": "markdown",
   "id": "c6b8cf2e-a2f7-4f31-ac7b-29925f29fc10",
   "metadata": {},
   "source": [
    "**axis=0 (rows), axis=1 (columns)**"
   ]
  },
  {
   "cell_type": "code",
   "execution_count": null,
   "id": "bf1fa2e1-dc3b-441f-a5f0-593016283012",
   "metadata": {},
   "outputs": [],
   "source": [
    "C.max(axis=0)"
   ]
  },
  {
   "cell_type": "code",
   "execution_count": null,
   "id": "f8f6eb25-d803-4fd1-9ed6-f6be6586cfe0",
   "metadata": {},
   "outputs": [],
   "source": [
    "C.max(axis=1)"
   ]
  },
  {
   "cell_type": "markdown",
   "id": "f6fa5bd9-26d2-45dd-ac06-96ee0fa8d513",
   "metadata": {},
   "source": [
    "**A brief explanation of the below matrix:**\n",
    "**D=np.random.randint(20, size=(3,3), dtype=\"int8\")**\n",
    "\n",
    "**The 1st parameter (20) is the upper limit of the random numbers, size is the numbers of elements per row and column, and dtype is** **the data type in this case is int8**"
   ]
  },
  {
   "cell_type": "code",
   "execution_count": 37,
   "id": "632c419b-98d3-487e-8579-98fbc137161b",
   "metadata": {},
   "outputs": [],
   "source": [
    "D=np.random.randint(20, size=(3,3), dtype=\"int8\")"
   ]
  },
  {
   "cell_type": "code",
   "execution_count": 38,
   "id": "c83d0bb1-f29d-47e9-9311-7496303e87d0",
   "metadata": {},
   "outputs": [
    {
     "data": {
      "text/plain": [
       "array([[ 0,  4, 13],\n",
       "       [ 1, 18,  2],\n",
       "       [ 4,  4, 13]], dtype=int8)"
      ]
     },
     "execution_count": 38,
     "metadata": {},
     "output_type": "execute_result"
    }
   ],
   "source": [
    "D"
   ]
  },
  {
   "cell_type": "markdown",
   "id": "1766f806-f20c-4808-b8fe-b950a3735522",
   "metadata": {},
   "source": [
    "#### TO EVALUATE EVERY ELEMENT TO SEE IF MEETS THE FILTERING CRITERIA "
   ]
  },
  {
   "cell_type": "code",
   "execution_count": 39,
   "id": "d28a7936-c60c-4113-a6fb-4626cba5d54f",
   "metadata": {},
   "outputs": [
    {
     "data": {
      "text/plain": [
       "array([[False, False, False],\n",
       "       [False, False, False],\n",
       "       [False, False, False]])"
      ]
     },
     "execution_count": 39,
     "metadata": {},
     "output_type": "execute_result"
    }
   ],
   "source": [
    "D>30"
   ]
  },
  {
   "cell_type": "code",
   "execution_count": 40,
   "id": "4ba65eb8-184c-45b3-93fe-47fe1922cee7",
   "metadata": {},
   "outputs": [
    {
     "data": {
      "text/plain": [
       "dtype('int8')"
      ]
     },
     "execution_count": 40,
     "metadata": {},
     "output_type": "execute_result"
    }
   ],
   "source": [
    "D.dtype"
   ]
  },
  {
   "cell_type": "markdown",
   "id": "125ce315-3738-4cde-a605-c80bf84ecc6f",
   "metadata": {},
   "source": [
    "#### TO SLICE THE ARRAY WITH A FILTERING CRITERIA"
   ]
  },
  {
   "cell_type": "code",
   "execution_count": 42,
   "id": "ad844e69-3623-436c-9541-f727d6800e3e",
   "metadata": {},
   "outputs": [
    {
     "data": {
      "text/plain": [
       "array([13, 18, 13], dtype=int8)"
      ]
     },
     "execution_count": 42,
     "metadata": {},
     "output_type": "execute_result"
    }
   ],
   "source": [
    "D[D>10]"
   ]
  },
  {
   "cell_type": "code",
   "execution_count": 45,
   "id": "ea8e20de-0ed5-4b1d-8f54-68cef1142947",
   "metadata": {},
   "outputs": [
    {
     "data": {
      "text/plain": [
       "array([13, 18, 13], dtype=int8)"
      ]
     },
     "execution_count": 45,
     "metadata": {},
     "output_type": "execute_result"
    }
   ],
   "source": [
    "D[D>D.mean()]"
   ]
  },
  {
   "cell_type": "markdown",
   "id": "67f8992f-b5af-47b3-929f-0ad3a7a084a1",
   "metadata": {},
   "source": [
    "## SIZE OF OBJECTS IN MEMORY [IN BYTE(=8BITS)]"
   ]
  },
  {
   "cell_type": "code",
   "execution_count": 7,
   "id": "67e1a01a-e2a1-4d62-8879-4b5135c7eeb9",
   "metadata": {},
   "outputs": [
    {
     "data": {
      "text/plain": [
       "28"
      ]
     },
     "execution_count": 7,
     "metadata": {},
     "output_type": "execute_result"
    }
   ],
   "source": [
    "sys.getsizeof(1)"
   ]
  },
  {
   "cell_type": "code",
   "execution_count": 8,
   "id": "a8541cbf-1d48-4be7-af65-bc16f6fc187a",
   "metadata": {},
   "outputs": [
    {
     "data": {
      "text/plain": [
       "28"
      ]
     },
     "execution_count": 8,
     "metadata": {},
     "output_type": "execute_result"
    }
   ],
   "source": [
    "sys.getsizeof(55)"
   ]
  },
  {
   "cell_type": "code",
   "execution_count": 9,
   "id": "22c95853-7577-4b56-a5c2-adc60ca2b3e3",
   "metadata": {},
   "outputs": [
    {
     "data": {
      "text/plain": [
       "45"
      ]
     },
     "execution_count": 9,
     "metadata": {},
     "output_type": "execute_result"
    }
   ],
   "source": [
    "sys.getsizeof(\"hola\")"
   ]
  },
  {
   "cell_type": "code",
   "execution_count": 10,
   "id": "1c149401-4dab-49f4-8110-0821585ac64c",
   "metadata": {},
   "outputs": [
    {
     "data": {
      "text/plain": [
       "51"
      ]
     },
     "execution_count": 10,
     "metadata": {},
     "output_type": "execute_result"
    }
   ],
   "source": [
    "sys.getsizeof(\"hola mundo\")"
   ]
  },
  {
   "cell_type": "code",
   "execution_count": 13,
   "id": "d5c5d4eb-8205-4f52-815d-f29cb1da5719",
   "metadata": {},
   "outputs": [
    {
     "data": {
      "text/plain": [
       "8"
      ]
     },
     "execution_count": 13,
     "metadata": {},
     "output_type": "execute_result"
    }
   ],
   "source": [
    "np.dtype(int).itemsize"
   ]
  },
  {
   "cell_type": "markdown",
   "id": "43f27120-2372-4d6d-b311-3b9196036b26",
   "metadata": {},
   "source": [
    "NOTE: in this system one integer is 64bits because the system is 64 bits, so the result will be 8bytes (1byte=8bits)"
   ]
  },
  {
   "cell_type": "code",
   "execution_count": 14,
   "id": "b61c9e44-6c9f-41de-bfa0-424c58cf0800",
   "metadata": {},
   "outputs": [
    {
     "data": {
      "text/plain": [
       "1"
      ]
     },
     "execution_count": 14,
     "metadata": {},
     "output_type": "execute_result"
    }
   ],
   "source": [
    "np.dtype(np.int8).itemsize"
   ]
  },
  {
   "cell_type": "markdown",
   "id": "3ded5d17-a2fc-4eb6-a266-fb8b57d8ecf8",
   "metadata": {},
   "source": [
    "#### Lists vs arrays"
   ]
  },
  {
   "cell_type": "code",
   "execution_count": 46,
   "id": "026682d2-5bec-48eb-b3f9-d881a85ab1c9",
   "metadata": {},
   "outputs": [
    {
     "data": {
      "text/plain": [
       "64"
      ]
     },
     "execution_count": 46,
     "metadata": {},
     "output_type": "execute_result"
    }
   ],
   "source": [
    "sys.getsizeof([1])"
   ]
  },
  {
   "cell_type": "code",
   "execution_count": 18,
   "id": "cbbce602-d146-4d8e-849a-9f4b5d0ed365",
   "metadata": {},
   "outputs": [
    {
     "data": {
      "text/plain": [
       "8"
      ]
     },
     "execution_count": 18,
     "metadata": {},
     "output_type": "execute_result"
    }
   ],
   "source": [
    "np.array([1]).itemsize"
   ]
  },
  {
   "cell_type": "code",
   "execution_count": 19,
   "id": "79b3c6f1-eb7f-45a2-8d1a-be9ee37623ca",
   "metadata": {},
   "outputs": [
    {
     "data": {
      "text/plain": [
       "8"
      ]
     },
     "execution_count": 19,
     "metadata": {},
     "output_type": "execute_result"
    }
   ],
   "source": [
    "np.array([1]).nbytes"
   ]
  },
  {
   "cell_type": "markdown",
   "id": "03718183-1043-4f6b-bb97-4ab1de0ec575",
   "metadata": {},
   "source": [
    "#### PERFORMANCE LIST VS ARRAY (sum method)"
   ]
  },
  {
   "cell_type": "code",
   "execution_count": 40,
   "id": "52dd852a-8aec-47c5-9f8f-10873d846045",
   "metadata": {},
   "outputs": [],
   "source": [
    "l=list(range(10000000))"
   ]
  },
  {
   "cell_type": "code",
   "execution_count": 48,
   "id": "14d21eb1-45f3-4f70-9577-9d70a144da5e",
   "metadata": {},
   "outputs": [
    {
     "data": {
      "text/plain": [
       "array([      0,       1,       2, ..., 9999997, 9999998, 9999999],\n",
       "      shape=(10000000,))"
      ]
     },
     "execution_count": 48,
     "metadata": {},
     "output_type": "execute_result"
    }
   ],
   "source": [
    "G"
   ]
  },
  {
   "cell_type": "code",
   "execution_count": 41,
   "id": "806fe1d5-2762-473b-b6d7-79c75e8b7f8c",
   "metadata": {
    "jupyter": {
     "source_hidden": true
    }
   },
   "outputs": [],
   "source": [
    "G=np.arange(10000000)"
   ]
  },
  {
   "cell_type": "code",
   "execution_count": 44,
   "id": "1f2d0321-3fef-41aa-bfa2-00f945a5a5d3",
   "metadata": {},
   "outputs": [
    {
     "name": "stdout",
     "output_type": "stream",
     "text": [
      "CPU times: user 1.15 s, sys: 297 ms, total: 1.45 s\n",
      "Wall time: 1.56 s\n"
     ]
    },
    {
     "data": {
      "text/plain": [
       "333333283333335000000"
      ]
     },
     "execution_count": 44,
     "metadata": {},
     "output_type": "execute_result"
    }
   ],
   "source": [
    "%time sum([x**2 for x in l])"
   ]
  },
  {
   "cell_type": "code",
   "execution_count": 45,
   "id": "ef1ed5ad-b6ca-4a6b-9ff1-f7460ac440c7",
   "metadata": {},
   "outputs": [
    {
     "name": "stdout",
     "output_type": "stream",
     "text": [
      "CPU times: user 39.1 ms, sys: 18.7 ms, total: 57.8 ms\n",
      "Wall time: 64.1 ms\n"
     ]
    },
    {
     "data": {
      "text/plain": [
       "np.int64(1291890006563070912)"
      ]
     },
     "execution_count": 45,
     "metadata": {},
     "output_type": "execute_result"
    }
   ],
   "source": [
    "%time np.sum(G**2)"
   ]
  },
  {
   "cell_type": "code",
   "execution_count": null,
   "id": "787c6e35-2464-4eb2-8781-70044f556143",
   "metadata": {},
   "outputs": [],
   "source": []
  }
 ],
 "metadata": {
  "kernelspec": {
   "display_name": "dataAnalytics",
   "language": "python",
   "name": "dataanalytics"
  },
  "language_info": {
   "codemirror_mode": {
    "name": "ipython",
    "version": 3
   },
   "file_extension": ".py",
   "mimetype": "text/x-python",
   "name": "python",
   "nbconvert_exporter": "python",
   "pygments_lexer": "ipython3",
   "version": "3.12.7"
  }
 },
 "nbformat": 4,
 "nbformat_minor": 5
}
