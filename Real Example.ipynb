{
 "cells": [
  {
   "cell_type": "code",
   "execution_count": 1,
   "id": "0718ece0-8dd5-4f7b-8236-c5c4c5595fc5",
   "metadata": {},
   "outputs": [],
   "source": [
    "import sys\n",
    "sys.path.append('/home/oscar/py_envs/lib/python3.12/site-packages')"
   ]
  },
  {
   "cell_type": "code",
   "execution_count": 2,
   "id": "05ca338e-a4c5-47db-8c26-ac54b50528f8",
   "metadata": {},
   "outputs": [],
   "source": [
    "import numpy as np\n",
    "import matplotlib.pyplot as plt\n",
    "import pandas as pd"
   ]
  },
  {
   "cell_type": "code",
   "execution_count": 11,
   "id": "47222002-06fe-433d-9f38-6c50c27e28ce",
   "metadata": {},
   "outputs": [
    {
     "name": "stdout",
     "output_type": "stream",
     "text": [
      "head: cannot open 'home/oscar/Desktop/Data' for reading: No such file or directory\n",
      "head: cannot open 'Analytics' for reading: No such file or directory\n",
      "head: cannot open 'Course/sales_data.csv' for reading: No such file or directory\n"
     ]
    }
   ],
   "source": [
    "#Header In Linux/Mac Terminal:\n",
    "!head home/oscar/Desktop/Data Analytics Course/sales_data.csv"
   ]
  },
  {
   "cell_type": "code",
   "execution_count": null,
   "id": "d10092ac-c1ce-4b51-9b5b-508f1d09b791",
   "metadata": {},
   "outputs": [],
   "source": []
  }
 ],
 "metadata": {
  "kernelspec": {
   "display_name": "dataAnalytics",
   "language": "python",
   "name": "dataanalytics"
  },
  "language_info": {
   "codemirror_mode": {
    "name": "ipython",
    "version": 3
   },
   "file_extension": ".py",
   "mimetype": "text/x-python",
   "name": "python",
   "nbconvert_exporter": "python",
   "pygments_lexer": "ipython3",
   "version": "3.12.7"
  }
 },
 "nbformat": 4,
 "nbformat_minor": 5
}
