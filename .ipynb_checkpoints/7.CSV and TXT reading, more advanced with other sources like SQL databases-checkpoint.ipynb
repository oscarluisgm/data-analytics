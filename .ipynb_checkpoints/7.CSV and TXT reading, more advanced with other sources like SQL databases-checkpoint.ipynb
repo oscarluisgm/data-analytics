{
 "cells": [
  {
   "cell_type": "code",
   "execution_count": 1,
   "id": "f2e148e4-4871-44e4-80b0-2945fa017564",
   "metadata": {},
   "outputs": [],
   "source": [
    "import sys\n",
    "sys.path.append('/home/oscar/py_envs/lib/python3.12/site-packages')"
   ]
  },
  {
   "cell_type": "code",
   "execution_count": 2,
   "id": "feefd221-b7d0-4376-b097-7797354f5215",
   "metadata": {},
   "outputs": [],
   "source": [
    "import pandas as pd\n",
    "import numpy as np\n",
    "import matplotlib.pyplot as plt\n",
    "\n",
    "%matplotlib inline"
   ]
  },
  {
   "cell_type": "code",
   "execution_count": 4,
   "id": "413c785d-4e00-4231-aaed-0a6209bce339",
   "metadata": {},
   "outputs": [
    {
     "name": "stdout",
     "output_type": "stream",
     "text": [
      "<_io.TextIOWrapper name='/home/oscar/Desktop/Data Analytics Course/btc-market-price.csv' mode='r' encoding='UTF-8'>\n"
     ]
    }
   ],
   "source": [
    "# with: The file is automatically closed when the block inside with is exited even if an error occurs within the block (Exception safety)\n",
    "# Mode (\"r\"): read mode... There are others \"w\": write (creates or truncates a file), \"a\": appends to an existing file, \"b\": binary mode, \"+\":read and write mode. \n",
    "# open: open a file. It returns a file object (also called a FILE HANDLE) that allows you to read, write, or modify the file.\n",
    "# fp: variable wich is a FILE POINTER wich might be called  as file or whatever else\n",
    "\n",
    "with open (\"/home/oscar/Desktop/Data Analytics Course/btc-market-price.csv\", \"r\") as fp:\n",
    "\n",
    "    print(fp)"
   ]
  },
  {
   "cell_type": "code",
   "execution_count": 5,
   "id": "a5bd3162-c2ab-4701-8007-3cd8d59c7d19",
   "metadata": {},
   "outputs": [
    {
     "name": "stdout",
     "output_type": "stream",
     "text": [
      "0 2017-04-02 00:00:00,1099.169125\n",
      "\n",
      "1 2017-04-03 00:00:00,1141.813\n",
      "\n",
      "2 2017-04-04 00:00:00,1141.6003625\n",
      "\n",
      "3 2017-04-05 00:00:00,1133.0793142857142\n",
      "\n",
      "4 2017-04-06 00:00:00,1196.3079375\n",
      "\n",
      "5 2017-04-07 00:00:00,1190.45425\n",
      "\n",
      "6 2017-04-08 00:00:00,1181.1498375\n",
      "\n",
      "7 2017-04-09 00:00:00,1208.8005\n",
      "\n",
      "8 2017-04-10 00:00:00,1207.744875\n",
      "\n",
      "9 2017-04-11 00:00:00,1226.6170375\n",
      "\n"
     ]
    }
   ],
   "source": [
    "with open (\"/home/oscar/Desktop/Data Analytics Course/btc-market-price.csv\", \"r\") as fp:\n",
    "    for index, line in enumerate(fp.readlines()):\n",
    "        #read just 10 lines\n",
    "        if (index < 10):\n",
    "            print(index, line)\n",
    "    "
   ]
  },
  {
   "cell_type": "code",
   "execution_count": 11,
   "id": "45147867-9641-4991-aebc-7928dca12c4e",
   "metadata": {},
   "outputs": [
    {
     "name": "stdout",
     "output_type": "stream",
     "text": [
      "0: $1099.169125\n",
      "\n",
      "1: $1141.813\n",
      "\n",
      "2: $1141.6003625\n",
      "\n",
      "3: $1133.0793142857142\n",
      "\n",
      "4: $1196.3079375\n",
      "\n",
      "5: $1190.45425\n",
      "\n",
      "6: $1181.1498375\n",
      "\n",
      "7: $1208.8005\n",
      "\n",
      "8: $1207.744875\n",
      "\n",
      "9: $1226.6170375\n",
      "\n"
     ]
    }
   ],
   "source": [
    "with open (\"/home/oscar/Desktop/Data Analytics Course/btc-market-price.csv\", \"r\") as fp:\n",
    "    for index, line in enumerate(fp.readlines()):\n",
    "        if (index < 10):                     #reading just 10 lines      \n",
    "            timestamp, price=line.split(\",\") #setting the names of the strings to split = #splitting the whole string \"2017-04-07 00:00:00, 1196\" to different strings \"2017-04-07 00:00:00\",\"1196\" \n",
    "            print(f\"{index}: ${price}\")      #printing the index of the main list items and its respective price previously separated\n",
    "                                             #f\"{var}...\" is to format within a string with the previously set variables: timestamp and price"
   ]
  },
  {
   "cell_type": "code",
   "execution_count": 12,
   "id": "7ecdd1b7-e089-4371-ad9e-a8cfacdc302e",
   "metadata": {},
   "outputs": [],
   "source": [
    "import csv"
   ]
  },
  {
   "cell_type": "code",
   "execution_count": 17,
   "id": "5aa0bf11-4f7b-48c3-91d2-a13a644a64da",
   "metadata": {},
   "outputs": [
    {
     "name": "stdout",
     "output_type": "stream",
     "text": [
      "2017-04-03 00:00:00:1141.813\n",
      "2017-04-04 00:00:00:1141.6003625\n",
      "2017-04-05 00:00:00:1133.0793142857142\n",
      "2017-04-06 00:00:00:1196.3079375\n",
      "2017-04-07 00:00:00:1190.45425\n",
      "2017-04-08 00:00:00:1181.1498375\n",
      "2017-04-09 00:00:00:1208.8005\n",
      "2017-04-10 00:00:00:1207.744875\n",
      "2017-04-11 00:00:00:1226.6170375\n",
      "2017-04-12 00:00:00:1218.92205\n",
      "2017-04-13 00:00:00:1180.0237125\n",
      "2017-04-14 00:00:00:1185.2600571428572\n",
      "2017-04-15 00:00:00:1184.8806714285713\n",
      "2017-04-16 00:00:00:1186.9274125\n",
      "2017-04-17 00:00:00:1205.634875\n"
     ]
    }
   ],
   "source": [
    "with open (\"/home/oscar/Desktop/Data Analytics Course/btc-market-price.csv\", \"r\") as fp:\n",
    "    \n",
    "    reader=csv.reader(fp,delimiter=\",\") #could be \">\" or any other separator\n",
    "    next(reader) #skipping header\n",
    "    \n",
    "    for index, values in enumerate(reader):\n",
    "        \n",
    "        if not(values): \n",
    "            continue #skip empty lines\n",
    "            \n",
    "        if (index<15):\n",
    "            timestamp, price=values\n",
    "            print(f\"{timestamp}:{price}\")\n",
    "\n",
    "            "
   ]
  },
  {
   "cell_type": "code",
   "execution_count": null,
   "id": "2c2bb16b-981d-4584-b34c-b3dd838f258a",
   "metadata": {},
   "outputs": [],
   "source": []
  }
 ],
 "metadata": {
  "kernelspec": {
   "display_name": "dataAnalytics",
   "language": "python",
   "name": "dataanalytics"
  },
  "language_info": {
   "codemirror_mode": {
    "name": "ipython",
    "version": 3
   },
   "file_extension": ".py",
   "mimetype": "text/x-python",
   "name": "python",
   "nbconvert_exporter": "python",
   "pygments_lexer": "ipython3",
   "version": "3.12.7"
  }
 },
 "nbformat": 4,
 "nbformat_minor": 5
}
