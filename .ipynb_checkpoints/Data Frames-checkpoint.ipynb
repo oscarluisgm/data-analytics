{
 "cells": [
  {
   "cell_type": "code",
   "execution_count": 9,
   "id": "37c09701-7be4-4db9-891d-2875792a2332",
   "metadata": {},
   "outputs": [
    {
     "name": "stdout",
     "output_type": "stream",
     "text": [
      "The history saving thread hit an unexpected error (OperationalError('attempt to write a readonly database')).History will not be written to the database.\n"
     ]
    }
   ],
   "source": [
    "import sys\n",
    "sys.path.append('/home/oscar/py_envs/lib/python3.12/site-packages')"
   ]
  },
  {
   "cell_type": "code",
   "execution_count": 10,
   "id": "4bdfd5c8-3485-498e-a92b-36930b5cff47",
   "metadata": {},
   "outputs": [],
   "source": [
    "import numpy as np\n",
    "import pandas as pd"
   ]
  },
  {
   "cell_type": "markdown",
   "id": "702e7de2-3b04-4805-ba11-f48661aeec61",
   "metadata": {},
   "source": [
    "# DATAFRAME\n",
    "\n",
    "A Dataframe column is like a Serie"
   ]
  },
  {
   "cell_type": "code",
   "execution_count": 11,
   "id": "87884475-d079-4b3b-8b9a-16a5bee60039",
   "metadata": {},
   "outputs": [],
   "source": [
    "D=np.random.randint(100, size=(1,6), dtype=\"int8\")"
   ]
  },
  {
   "cell_type": "code",
   "execution_count": 12,
   "id": "1d63afa8-32ff-4d2a-b4ea-5ff974019342",
   "metadata": {},
   "outputs": [
    {
     "data": {
      "text/plain": [
       "array([[52, 81, 39, 78, 12, 99]], dtype=int8)"
      ]
     },
     "execution_count": 12,
     "metadata": {},
     "output_type": "execute_result"
    }
   ],
   "source": [
    "D"
   ]
  },
  {
   "cell_type": "code",
   "execution_count": 13,
   "id": "8e9ab92c-4519-4e4b-a386-0dfbb0d20ee1",
   "metadata": {},
   "outputs": [],
   "source": [
    "df=pd.DataFrame({\n",
    "    \"Population\" : [42, 63, 19, 76, 27,  8],\n",
    "    \"GDP\" : [\n",
    "        17648125,\n",
    "        56894236,\n",
    "        15182159,\n",
    "        15418415,\n",
    "        41541541,\n",
    "        46549863\n",
    "    ],\n",
    "    \"Surface Area\":[\n",
    "        151854,\n",
    "        416414,\n",
    "        4151664,\n",
    "        251854,\n",
    "        154185,\n",
    "        1515\n",
    "    ],\n",
    "    \"HDI\":[\n",
    "        0.91,\n",
    "        0.89,\n",
    "        0.88,\n",
    "        0.90,\n",
    "        0.897,\n",
    "        0.91    \n",
    "    ],\n",
    "    \"Continent\":[\n",
    "        \"Europe\",\n",
    "        \"America\",\n",
    "        \"Asia\",\n",
    "        \"America\",\n",
    "        \"Europe\",\n",
    "        \"America\"\n",
    "    ] \n",
    "}, columns=[\"Population\", \"GDP\", \"Surface Area\", \"HDI\", \"Continent\"])\n",
    "\n",
    "# the columns attribute is optional"
   ]
  },
  {
   "cell_type": "code",
   "execution_count": 14,
   "id": "455bce2b-f87f-437f-8b82-9627fd64dca6",
   "metadata": {},
   "outputs": [],
   "source": [
    "df.index=[\"Germany\",\"Argentina\",\"Japan\",\"United States\",\"Italy\",\"Canada\"]"
   ]
  },
  {
   "cell_type": "code",
   "execution_count": 6,
   "id": "f6386ad8-cc53-408e-9146-be91d4cb2cd5",
   "metadata": {},
   "outputs": [
    {
     "data": {
      "text/html": [
       "<div>\n",
       "<style scoped>\n",
       "    .dataframe tbody tr th:only-of-type {\n",
       "        vertical-align: middle;\n",
       "    }\n",
       "\n",
       "    .dataframe tbody tr th {\n",
       "        vertical-align: top;\n",
       "    }\n",
       "\n",
       "    .dataframe thead th {\n",
       "        text-align: right;\n",
       "    }\n",
       "</style>\n",
       "<table border=\"1\" class=\"dataframe\">\n",
       "  <thead>\n",
       "    <tr style=\"text-align: right;\">\n",
       "      <th></th>\n",
       "      <th>Population</th>\n",
       "      <th>GDP</th>\n",
       "      <th>Surface Area</th>\n",
       "      <th>HDI</th>\n",
       "      <th>Continent</th>\n",
       "    </tr>\n",
       "  </thead>\n",
       "  <tbody>\n",
       "    <tr>\n",
       "      <th>Germany</th>\n",
       "      <td>42</td>\n",
       "      <td>17648125</td>\n",
       "      <td>151854</td>\n",
       "      <td>0.910</td>\n",
       "      <td>Europe</td>\n",
       "    </tr>\n",
       "    <tr>\n",
       "      <th>Argentina</th>\n",
       "      <td>63</td>\n",
       "      <td>56894236</td>\n",
       "      <td>416414</td>\n",
       "      <td>0.890</td>\n",
       "      <td>America</td>\n",
       "    </tr>\n",
       "    <tr>\n",
       "      <th>Japan</th>\n",
       "      <td>19</td>\n",
       "      <td>15182159</td>\n",
       "      <td>4151664</td>\n",
       "      <td>0.880</td>\n",
       "      <td>Asia</td>\n",
       "    </tr>\n",
       "    <tr>\n",
       "      <th>United States</th>\n",
       "      <td>76</td>\n",
       "      <td>15418415</td>\n",
       "      <td>251854</td>\n",
       "      <td>0.900</td>\n",
       "      <td>America</td>\n",
       "    </tr>\n",
       "    <tr>\n",
       "      <th>Italy</th>\n",
       "      <td>27</td>\n",
       "      <td>41541541</td>\n",
       "      <td>154185</td>\n",
       "      <td>0.897</td>\n",
       "      <td>Europe</td>\n",
       "    </tr>\n",
       "    <tr>\n",
       "      <th>Canada</th>\n",
       "      <td>8</td>\n",
       "      <td>46549863</td>\n",
       "      <td>1515</td>\n",
       "      <td>0.910</td>\n",
       "      <td>America</td>\n",
       "    </tr>\n",
       "  </tbody>\n",
       "</table>\n",
       "</div>"
      ],
      "text/plain": [
       "               Population       GDP  Surface Area    HDI Continent\n",
       "Germany                42  17648125        151854  0.910    Europe\n",
       "Argentina              63  56894236        416414  0.890   America\n",
       "Japan                  19  15182159       4151664  0.880      Asia\n",
       "United States          76  15418415        251854  0.900   America\n",
       "Italy                  27  41541541        154185  0.897    Europe\n",
       "Canada                  8  46549863          1515  0.910   America"
      ]
     },
     "execution_count": 6,
     "metadata": {},
     "output_type": "execute_result"
    }
   ],
   "source": [
    "# A DataFrame is pretty much like a 2D NumPy array\n",
    "\n",
    "df"
   ]
  },
  {
   "cell_type": "markdown",
   "id": "2c5b0511-d54e-400a-930a-c8b0143c6ce1",
   "metadata": {},
   "source": [
    "## Pandas Functions"
   ]
  },
  {
   "cell_type": "code",
   "execution_count": 56,
   "id": "c7627627-a548-42d4-9c68-fea5097f8859",
   "metadata": {},
   "outputs": [
    {
     "data": {
      "text/plain": [
       "Index(['Population', 'GDP', 'Surface Area', 'HDI', 'Continent'], dtype='object')"
      ]
     },
     "execution_count": 56,
     "metadata": {},
     "output_type": "execute_result"
    }
   ],
   "source": [
    "df.columns"
   ]
  },
  {
   "cell_type": "code",
   "execution_count": 57,
   "id": "cfa4673f-9413-48c7-bc55-5298241416c5",
   "metadata": {},
   "outputs": [
    {
     "data": {
      "text/plain": [
       "30"
      ]
     },
     "execution_count": 57,
     "metadata": {},
     "output_type": "execute_result"
    }
   ],
   "source": [
    "df.size"
   ]
  },
  {
   "cell_type": "code",
   "execution_count": 58,
   "id": "cf5ecdd6-565e-48d9-9d2b-a0e277884413",
   "metadata": {},
   "outputs": [
    {
     "name": "stdout",
     "output_type": "stream",
     "text": [
      "<class 'pandas.core.frame.DataFrame'>\n",
      "Index: 6 entries, Germany to Canada\n",
      "Data columns (total 5 columns):\n",
      " #   Column        Non-Null Count  Dtype  \n",
      "---  ------        --------------  -----  \n",
      " 0   Population    6 non-null      int64  \n",
      " 1   GDP           6 non-null      int64  \n",
      " 2   Surface Area  6 non-null      int64  \n",
      " 3   HDI           6 non-null      float64\n",
      " 4   Continent     6 non-null      object \n",
      "dtypes: float64(1), int64(3), object(1)\n",
      "memory usage: 288.0+ bytes\n"
     ]
    }
   ],
   "source": [
    "df.info()"
   ]
  },
  {
   "cell_type": "code",
   "execution_count": 59,
   "id": "60591c62-ea06-43a3-9bf1-de561db3cece",
   "metadata": {},
   "outputs": [
    {
     "data": {
      "text/plain": [
       "(6, 5)"
      ]
     },
     "execution_count": 59,
     "metadata": {},
     "output_type": "execute_result"
    }
   ],
   "source": [
    "df.shape"
   ]
  },
  {
   "cell_type": "code",
   "execution_count": 60,
   "id": "9a63be16-6ffd-46e1-89dd-3a1fe3a4d0de",
   "metadata": {},
   "outputs": [
    {
     "data": {
      "text/html": [
       "<div>\n",
       "<style scoped>\n",
       "    .dataframe tbody tr th:only-of-type {\n",
       "        vertical-align: middle;\n",
       "    }\n",
       "\n",
       "    .dataframe tbody tr th {\n",
       "        vertical-align: top;\n",
       "    }\n",
       "\n",
       "    .dataframe thead th {\n",
       "        text-align: right;\n",
       "    }\n",
       "</style>\n",
       "<table border=\"1\" class=\"dataframe\">\n",
       "  <thead>\n",
       "    <tr style=\"text-align: right;\">\n",
       "      <th></th>\n",
       "      <th>Population</th>\n",
       "      <th>GDP</th>\n",
       "      <th>Surface Area</th>\n",
       "      <th>HDI</th>\n",
       "    </tr>\n",
       "  </thead>\n",
       "  <tbody>\n",
       "    <tr>\n",
       "      <th>count</th>\n",
       "      <td>6.000000</td>\n",
       "      <td>6.000000e+00</td>\n",
       "      <td>6.000000e+00</td>\n",
       "      <td>6.000000</td>\n",
       "    </tr>\n",
       "    <tr>\n",
       "      <th>mean</th>\n",
       "      <td>39.166667</td>\n",
       "      <td>3.220572e+07</td>\n",
       "      <td>8.545810e+05</td>\n",
       "      <td>0.897833</td>\n",
       "    </tr>\n",
       "    <tr>\n",
       "      <th>std</th>\n",
       "      <td>26.301458</td>\n",
       "      <td>1.836286e+07</td>\n",
       "      <td>1.620995e+06</td>\n",
       "      <td>0.011669</td>\n",
       "    </tr>\n",
       "    <tr>\n",
       "      <th>min</th>\n",
       "      <td>8.000000</td>\n",
       "      <td>1.518216e+07</td>\n",
       "      <td>1.515000e+03</td>\n",
       "      <td>0.880000</td>\n",
       "    </tr>\n",
       "    <tr>\n",
       "      <th>25%</th>\n",
       "      <td>21.000000</td>\n",
       "      <td>1.597584e+07</td>\n",
       "      <td>1.524368e+05</td>\n",
       "      <td>0.891750</td>\n",
       "    </tr>\n",
       "    <tr>\n",
       "      <th>50%</th>\n",
       "      <td>34.500000</td>\n",
       "      <td>2.959483e+07</td>\n",
       "      <td>2.030195e+05</td>\n",
       "      <td>0.898500</td>\n",
       "    </tr>\n",
       "    <tr>\n",
       "      <th>75%</th>\n",
       "      <td>57.750000</td>\n",
       "      <td>4.529778e+07</td>\n",
       "      <td>3.752740e+05</td>\n",
       "      <td>0.907500</td>\n",
       "    </tr>\n",
       "    <tr>\n",
       "      <th>max</th>\n",
       "      <td>76.000000</td>\n",
       "      <td>5.689424e+07</td>\n",
       "      <td>4.151664e+06</td>\n",
       "      <td>0.910000</td>\n",
       "    </tr>\n",
       "  </tbody>\n",
       "</table>\n",
       "</div>"
      ],
      "text/plain": [
       "       Population           GDP  Surface Area       HDI\n",
       "count    6.000000  6.000000e+00  6.000000e+00  6.000000\n",
       "mean    39.166667  3.220572e+07  8.545810e+05  0.897833\n",
       "std     26.301458  1.836286e+07  1.620995e+06  0.011669\n",
       "min      8.000000  1.518216e+07  1.515000e+03  0.880000\n",
       "25%     21.000000  1.597584e+07  1.524368e+05  0.891750\n",
       "50%     34.500000  2.959483e+07  2.030195e+05  0.898500\n",
       "75%     57.750000  4.529778e+07  3.752740e+05  0.907500\n",
       "max     76.000000  5.689424e+07  4.151664e+06  0.910000"
      ]
     },
     "execution_count": 60,
     "metadata": {},
     "output_type": "execute_result"
    }
   ],
   "source": [
    "df.describe()"
   ]
  },
  {
   "cell_type": "code",
   "execution_count": 63,
   "id": "c13723a6-9a14-4d16-9df7-111cde98fbaa",
   "metadata": {},
   "outputs": [
    {
     "data": {
      "text/plain": [
       "Population        int64\n",
       "GDP               int64\n",
       "Surface Area      int64\n",
       "HDI             float64\n",
       "Continent        object\n",
       "dtype: object"
      ]
     },
     "execution_count": 63,
     "metadata": {},
     "output_type": "execute_result"
    }
   ],
   "source": [
    "# dtypes (pandas) not dtype as in numpy\n",
    "# object in this case is a string basically\n",
    "\n",
    "df.dtypes"
   ]
  },
  {
   "cell_type": "code",
   "execution_count": 64,
   "id": "13b06aa3-3075-46d7-9ea0-edc0569b3524",
   "metadata": {},
   "outputs": [
    {
     "data": {
      "text/plain": [
       "int64      3\n",
       "float64    1\n",
       "object     1\n",
       "Name: count, dtype: int64"
      ]
     },
     "execution_count": 64,
     "metadata": {},
     "output_type": "execute_result"
    }
   ],
   "source": [
    "df.dtypes.value_counts()"
   ]
  },
  {
   "cell_type": "code",
   "execution_count": 65,
   "id": "c7dcb75f-dece-4e75-b43c-7de1169752b6",
   "metadata": {},
   "outputs": [
    {
     "data": {
      "text/html": [
       "<div>\n",
       "<style scoped>\n",
       "    .dataframe tbody tr th:only-of-type {\n",
       "        vertical-align: middle;\n",
       "    }\n",
       "\n",
       "    .dataframe tbody tr th {\n",
       "        vertical-align: top;\n",
       "    }\n",
       "\n",
       "    .dataframe thead th {\n",
       "        text-align: right;\n",
       "    }\n",
       "</style>\n",
       "<table border=\"1\" class=\"dataframe\">\n",
       "  <thead>\n",
       "    <tr style=\"text-align: right;\">\n",
       "      <th></th>\n",
       "      <th>Population</th>\n",
       "      <th>GDP</th>\n",
       "      <th>Surface Area</th>\n",
       "      <th>HDI</th>\n",
       "      <th>Continent</th>\n",
       "    </tr>\n",
       "  </thead>\n",
       "  <tbody>\n",
       "    <tr>\n",
       "      <th>Germany</th>\n",
       "      <td>42</td>\n",
       "      <td>17648125</td>\n",
       "      <td>151854</td>\n",
       "      <td>0.910</td>\n",
       "      <td>Europe</td>\n",
       "    </tr>\n",
       "    <tr>\n",
       "      <th>Argentina</th>\n",
       "      <td>63</td>\n",
       "      <td>56894236</td>\n",
       "      <td>416414</td>\n",
       "      <td>0.890</td>\n",
       "      <td>America</td>\n",
       "    </tr>\n",
       "    <tr>\n",
       "      <th>Japan</th>\n",
       "      <td>19</td>\n",
       "      <td>15182159</td>\n",
       "      <td>4151664</td>\n",
       "      <td>0.880</td>\n",
       "      <td>Asia</td>\n",
       "    </tr>\n",
       "    <tr>\n",
       "      <th>United States</th>\n",
       "      <td>76</td>\n",
       "      <td>15418415</td>\n",
       "      <td>251854</td>\n",
       "      <td>0.900</td>\n",
       "      <td>America</td>\n",
       "    </tr>\n",
       "    <tr>\n",
       "      <th>Italy</th>\n",
       "      <td>27</td>\n",
       "      <td>41541541</td>\n",
       "      <td>154185</td>\n",
       "      <td>0.897</td>\n",
       "      <td>Europe</td>\n",
       "    </tr>\n",
       "    <tr>\n",
       "      <th>Canada</th>\n",
       "      <td>8</td>\n",
       "      <td>46549863</td>\n",
       "      <td>1515</td>\n",
       "      <td>0.910</td>\n",
       "      <td>America</td>\n",
       "    </tr>\n",
       "  </tbody>\n",
       "</table>\n",
       "</div>"
      ],
      "text/plain": [
       "               Population       GDP  Surface Area    HDI Continent\n",
       "Germany                42  17648125        151854  0.910    Europe\n",
       "Argentina              63  56894236        416414  0.890   America\n",
       "Japan                  19  15182159       4151664  0.880      Asia\n",
       "United States          76  15418415        251854  0.900   America\n",
       "Italy                  27  41541541        154185  0.897    Europe\n",
       "Canada                  8  46549863          1515  0.910   America"
      ]
     },
     "execution_count": 65,
     "metadata": {},
     "output_type": "execute_result"
    }
   ],
   "source": [
    "df"
   ]
  },
  {
   "cell_type": "markdown",
   "id": "b3cca8e4-d334-484f-9654-ba3dca45e09e",
   "metadata": {},
   "source": [
    "## Filtering in Pandas DataFrames (The returned results are Series)"
   ]
  },
  {
   "cell_type": "markdown",
   "id": "6f2799de-1178-4e67-a1f0-2b2c978e50a9",
   "metadata": {},
   "source": [
    "### By index"
   ]
  },
  {
   "cell_type": "code",
   "execution_count": 7,
   "id": "76b60487-09f7-4e84-9a60-69ed9d2450e4",
   "metadata": {},
   "outputs": [
    {
     "data": {
      "text/plain": [
       "Population             8\n",
       "GDP             46549863\n",
       "Surface Area        1515\n",
       "HDI                 0.91\n",
       "Continent        America\n",
       "Name: Canada, dtype: object"
      ]
     },
     "execution_count": 7,
     "metadata": {},
     "output_type": "execute_result"
    }
   ],
   "source": [
    "df.loc[\"Canada\"]"
   ]
  },
  {
   "cell_type": "markdown",
   "id": "ad067dba-a4a4-4da7-b700-7b3e32d90f36",
   "metadata": {},
   "source": [
    "### By sequential position"
   ]
  },
  {
   "cell_type": "code",
   "execution_count": 8,
   "id": "104366ab-11f7-4fa3-aa9e-9548c6395511",
   "metadata": {},
   "outputs": [
    {
     "data": {
      "text/plain": [
       "Population             8\n",
       "GDP             46549863\n",
       "Surface Area        1515\n",
       "HDI                 0.91\n",
       "Continent        America\n",
       "Name: Canada, dtype: object"
      ]
     },
     "execution_count": 8,
     "metadata": {},
     "output_type": "execute_result"
    }
   ],
   "source": [
    "df.iloc[-1]"
   ]
  },
  {
   "cell_type": "markdown",
   "id": "b865e975-c834-4777-a718-d9e9930de2ee",
   "metadata": {},
   "source": [
    "### By Column (Series in the DataFrame) "
   ]
  },
  {
   "cell_type": "code",
   "execution_count": 15,
   "id": "4be0e428-feca-4cd8-ac99-70ae9af82d67",
   "metadata": {},
   "outputs": [
    {
     "data": {
      "text/plain": [
       "Germany          42\n",
       "Argentina        63\n",
       "Japan            19\n",
       "United States    76\n",
       "Italy            27\n",
       "Canada            8\n",
       "Name: Population, dtype: int64"
      ]
     },
     "execution_count": 15,
     "metadata": {},
     "output_type": "execute_result"
    }
   ],
   "source": [
    "df[\"Population\"]"
   ]
  },
  {
   "cell_type": "code",
   "execution_count": 16,
   "id": "2bcadf73-035b-478c-887d-2830fa517e9c",
   "metadata": {},
   "outputs": [
    {
     "data": {
      "text/html": [
       "<div>\n",
       "<style scoped>\n",
       "    .dataframe tbody tr th:only-of-type {\n",
       "        vertical-align: middle;\n",
       "    }\n",
       "\n",
       "    .dataframe tbody tr th {\n",
       "        vertical-align: top;\n",
       "    }\n",
       "\n",
       "    .dataframe thead th {\n",
       "        text-align: right;\n",
       "    }\n",
       "</style>\n",
       "<table border=\"1\" class=\"dataframe\">\n",
       "  <thead>\n",
       "    <tr style=\"text-align: right;\">\n",
       "      <th></th>\n",
       "      <th>Population</th>\n",
       "      <th>GDP</th>\n",
       "      <th>Surface Area</th>\n",
       "      <th>HDI</th>\n",
       "      <th>Continent</th>\n",
       "    </tr>\n",
       "  </thead>\n",
       "  <tbody>\n",
       "    <tr>\n",
       "      <th>Germany</th>\n",
       "      <td>42</td>\n",
       "      <td>17648125</td>\n",
       "      <td>151854</td>\n",
       "      <td>0.910</td>\n",
       "      <td>Europe</td>\n",
       "    </tr>\n",
       "    <tr>\n",
       "      <th>Argentina</th>\n",
       "      <td>63</td>\n",
       "      <td>56894236</td>\n",
       "      <td>416414</td>\n",
       "      <td>0.890</td>\n",
       "      <td>America</td>\n",
       "    </tr>\n",
       "    <tr>\n",
       "      <th>Japan</th>\n",
       "      <td>19</td>\n",
       "      <td>15182159</td>\n",
       "      <td>4151664</td>\n",
       "      <td>0.880</td>\n",
       "      <td>Asia</td>\n",
       "    </tr>\n",
       "    <tr>\n",
       "      <th>United States</th>\n",
       "      <td>76</td>\n",
       "      <td>15418415</td>\n",
       "      <td>251854</td>\n",
       "      <td>0.900</td>\n",
       "      <td>America</td>\n",
       "    </tr>\n",
       "    <tr>\n",
       "      <th>Italy</th>\n",
       "      <td>27</td>\n",
       "      <td>41541541</td>\n",
       "      <td>154185</td>\n",
       "      <td>0.897</td>\n",
       "      <td>Europe</td>\n",
       "    </tr>\n",
       "    <tr>\n",
       "      <th>Canada</th>\n",
       "      <td>8</td>\n",
       "      <td>46549863</td>\n",
       "      <td>1515</td>\n",
       "      <td>0.910</td>\n",
       "      <td>America</td>\n",
       "    </tr>\n",
       "  </tbody>\n",
       "</table>\n",
       "</div>"
      ],
      "text/plain": [
       "               Population       GDP  Surface Area    HDI Continent\n",
       "Germany                42  17648125        151854  0.910    Europe\n",
       "Argentina              63  56894236        416414  0.890   America\n",
       "Japan                  19  15182159       4151664  0.880      Asia\n",
       "United States          76  15418415        251854  0.900   America\n",
       "Italy                  27  41541541        154185  0.897    Europe\n",
       "Canada                  8  46549863          1515  0.910   America"
      ]
     },
     "execution_count": 16,
     "metadata": {},
     "output_type": "execute_result"
    }
   ],
   "source": [
    "df"
   ]
  },
  {
   "cell_type": "code",
   "execution_count": 19,
   "id": "285da349-cf24-421f-ba8d-9a46a7df8f54",
   "metadata": {},
   "outputs": [
    {
     "data": {
      "text/html": [
       "<div>\n",
       "<style scoped>\n",
       "    .dataframe tbody tr th:only-of-type {\n",
       "        vertical-align: middle;\n",
       "    }\n",
       "\n",
       "    .dataframe tbody tr th {\n",
       "        vertical-align: top;\n",
       "    }\n",
       "\n",
       "    .dataframe thead th {\n",
       "        text-align: right;\n",
       "    }\n",
       "</style>\n",
       "<table border=\"1\" class=\"dataframe\">\n",
       "  <thead>\n",
       "    <tr style=\"text-align: right;\">\n",
       "      <th></th>\n",
       "      <th>Population</th>\n",
       "    </tr>\n",
       "  </thead>\n",
       "  <tbody>\n",
       "    <tr>\n",
       "      <th>Germany</th>\n",
       "      <td>42</td>\n",
       "    </tr>\n",
       "    <tr>\n",
       "      <th>Argentina</th>\n",
       "      <td>63</td>\n",
       "    </tr>\n",
       "    <tr>\n",
       "      <th>Japan</th>\n",
       "      <td>19</td>\n",
       "    </tr>\n",
       "    <tr>\n",
       "      <th>United States</th>\n",
       "      <td>76</td>\n",
       "    </tr>\n",
       "    <tr>\n",
       "      <th>Italy</th>\n",
       "      <td>27</td>\n",
       "    </tr>\n",
       "    <tr>\n",
       "      <th>Canada</th>\n",
       "      <td>8</td>\n",
       "    </tr>\n",
       "  </tbody>\n",
       "</table>\n",
       "</div>"
      ],
      "text/plain": [
       "               Population\n",
       "Germany                42\n",
       "Argentina              63\n",
       "Japan                  19\n",
       "United States          76\n",
       "Italy                  27\n",
       "Canada                  8"
      ]
     },
     "execution_count": 19,
     "metadata": {},
     "output_type": "execute_result"
    }
   ],
   "source": [
    "#Prettier than just calling by column name\n",
    "df[\"Population\"].to_frame()"
   ]
  },
  {
   "cell_type": "markdown",
   "id": "44aae207-c1fc-4a0e-be5e-fbc004533bd1",
   "metadata": {},
   "source": [
    "### Slicing"
   ]
  },
  {
   "cell_type": "code",
   "execution_count": 20,
   "id": "1648b9c6-0984-4f35-a400-0e3811b46b2b",
   "metadata": {},
   "outputs": [
    {
     "data": {
      "text/html": [
       "<div>\n",
       "<style scoped>\n",
       "    .dataframe tbody tr th:only-of-type {\n",
       "        vertical-align: middle;\n",
       "    }\n",
       "\n",
       "    .dataframe tbody tr th {\n",
       "        vertical-align: top;\n",
       "    }\n",
       "\n",
       "    .dataframe thead th {\n",
       "        text-align: right;\n",
       "    }\n",
       "</style>\n",
       "<table border=\"1\" class=\"dataframe\">\n",
       "  <thead>\n",
       "    <tr style=\"text-align: right;\">\n",
       "      <th></th>\n",
       "      <th>Population</th>\n",
       "      <th>GDP</th>\n",
       "    </tr>\n",
       "  </thead>\n",
       "  <tbody>\n",
       "    <tr>\n",
       "      <th>Germany</th>\n",
       "      <td>42</td>\n",
       "      <td>17648125</td>\n",
       "    </tr>\n",
       "    <tr>\n",
       "      <th>Argentina</th>\n",
       "      <td>63</td>\n",
       "      <td>56894236</td>\n",
       "    </tr>\n",
       "    <tr>\n",
       "      <th>Japan</th>\n",
       "      <td>19</td>\n",
       "      <td>15182159</td>\n",
       "    </tr>\n",
       "    <tr>\n",
       "      <th>United States</th>\n",
       "      <td>76</td>\n",
       "      <td>15418415</td>\n",
       "    </tr>\n",
       "    <tr>\n",
       "      <th>Italy</th>\n",
       "      <td>27</td>\n",
       "      <td>41541541</td>\n",
       "    </tr>\n",
       "    <tr>\n",
       "      <th>Canada</th>\n",
       "      <td>8</td>\n",
       "      <td>46549863</td>\n",
       "    </tr>\n",
       "  </tbody>\n",
       "</table>\n",
       "</div>"
      ],
      "text/plain": [
       "               Population       GDP\n",
       "Germany                42  17648125\n",
       "Argentina              63  56894236\n",
       "Japan                  19  15182159\n",
       "United States          76  15418415\n",
       "Italy                  27  41541541\n",
       "Canada                  8  46549863"
      ]
     },
     "execution_count": 20,
     "metadata": {},
     "output_type": "execute_result"
    }
   ],
   "source": [
    "df[[\"Population\",\"GDP\"]]"
   ]
  },
  {
   "cell_type": "code",
   "execution_count": 23,
   "id": "62213092-8dbe-4014-b3bd-db2ea6f56402",
   "metadata": {},
   "outputs": [
    {
     "data": {
      "text/html": [
       "<div>\n",
       "<style scoped>\n",
       "    .dataframe tbody tr th:only-of-type {\n",
       "        vertical-align: middle;\n",
       "    }\n",
       "\n",
       "    .dataframe tbody tr th {\n",
       "        vertical-align: top;\n",
       "    }\n",
       "\n",
       "    .dataframe thead th {\n",
       "        text-align: right;\n",
       "    }\n",
       "</style>\n",
       "<table border=\"1\" class=\"dataframe\">\n",
       "  <thead>\n",
       "    <tr style=\"text-align: right;\">\n",
       "      <th></th>\n",
       "      <th>Population</th>\n",
       "      <th>GDP</th>\n",
       "      <th>Surface Area</th>\n",
       "      <th>HDI</th>\n",
       "      <th>Continent</th>\n",
       "    </tr>\n",
       "  </thead>\n",
       "  <tbody>\n",
       "    <tr>\n",
       "      <th>Argentina</th>\n",
       "      <td>63</td>\n",
       "      <td>56894236</td>\n",
       "      <td>416414</td>\n",
       "      <td>0.890</td>\n",
       "      <td>America</td>\n",
       "    </tr>\n",
       "    <tr>\n",
       "      <th>Japan</th>\n",
       "      <td>19</td>\n",
       "      <td>15182159</td>\n",
       "      <td>4151664</td>\n",
       "      <td>0.880</td>\n",
       "      <td>Asia</td>\n",
       "    </tr>\n",
       "    <tr>\n",
       "      <th>United States</th>\n",
       "      <td>76</td>\n",
       "      <td>15418415</td>\n",
       "      <td>251854</td>\n",
       "      <td>0.900</td>\n",
       "      <td>America</td>\n",
       "    </tr>\n",
       "    <tr>\n",
       "      <th>Italy</th>\n",
       "      <td>27</td>\n",
       "      <td>41541541</td>\n",
       "      <td>154185</td>\n",
       "      <td>0.897</td>\n",
       "      <td>Europe</td>\n",
       "    </tr>\n",
       "  </tbody>\n",
       "</table>\n",
       "</div>"
      ],
      "text/plain": [
       "               Population       GDP  Surface Area    HDI Continent\n",
       "Argentina              63  56894236        416414  0.890   America\n",
       "Japan                  19  15182159       4151664  0.880      Asia\n",
       "United States          76  15418415        251854  0.900   America\n",
       "Italy                  27  41541541        154185  0.897    Europe"
      ]
     },
     "execution_count": 23,
     "metadata": {},
     "output_type": "execute_result"
    }
   ],
   "source": [
    "df.loc[\"Argentina\":\"Italy\"]"
   ]
  },
  {
   "cell_type": "code",
   "execution_count": 34,
   "id": "177b7389-a36a-444a-b10f-d095560567f8",
   "metadata": {},
   "outputs": [
    {
     "data": {
      "text/html": [
       "<div>\n",
       "<style scoped>\n",
       "    .dataframe tbody tr th:only-of-type {\n",
       "        vertical-align: middle;\n",
       "    }\n",
       "\n",
       "    .dataframe tbody tr th {\n",
       "        vertical-align: top;\n",
       "    }\n",
       "\n",
       "    .dataframe thead th {\n",
       "        text-align: right;\n",
       "    }\n",
       "</style>\n",
       "<table border=\"1\" class=\"dataframe\">\n",
       "  <thead>\n",
       "    <tr style=\"text-align: right;\">\n",
       "      <th></th>\n",
       "      <th>Continent</th>\n",
       "      <th>Surface Area</th>\n",
       "    </tr>\n",
       "  </thead>\n",
       "  <tbody>\n",
       "    <tr>\n",
       "      <th>Argentina</th>\n",
       "      <td>America</td>\n",
       "      <td>416414</td>\n",
       "    </tr>\n",
       "    <tr>\n",
       "      <th>Japan</th>\n",
       "      <td>Asia</td>\n",
       "      <td>4151664</td>\n",
       "    </tr>\n",
       "    <tr>\n",
       "      <th>United States</th>\n",
       "      <td>America</td>\n",
       "      <td>251854</td>\n",
       "    </tr>\n",
       "    <tr>\n",
       "      <th>Italy</th>\n",
       "      <td>Europe</td>\n",
       "      <td>154185</td>\n",
       "    </tr>\n",
       "  </tbody>\n",
       "</table>\n",
       "</div>"
      ],
      "text/plain": [
       "              Continent  Surface Area\n",
       "Argentina       America        416414\n",
       "Japan              Asia       4151664\n",
       "United States   America        251854\n",
       "Italy            Europe        154185"
      ]
     },
     "execution_count": 34,
     "metadata": {},
     "output_type": "execute_result"
    }
   ],
   "source": [
    "# WITH A SECOND DIMENSION\n",
    "#loc just for objects (strings) \n",
    "          #Keys             #Columns value as a \"list\" in reality they are NumPy arrays\n",
    "df.loc[\"Argentina\":\"Italy\", [\"Continent\",\"Surface Area\"]]"
   ]
  },
  {
   "cell_type": "code",
   "execution_count": 35,
   "id": "0b9bd355-ec3c-4912-8cea-41ae9cde78c7",
   "metadata": {},
   "outputs": [
    {
     "data": {
      "text/html": [
       "<div>\n",
       "<style scoped>\n",
       "    .dataframe tbody tr th:only-of-type {\n",
       "        vertical-align: middle;\n",
       "    }\n",
       "\n",
       "    .dataframe tbody tr th {\n",
       "        vertical-align: top;\n",
       "    }\n",
       "\n",
       "    .dataframe thead th {\n",
       "        text-align: right;\n",
       "    }\n",
       "</style>\n",
       "<table border=\"1\" class=\"dataframe\">\n",
       "  <thead>\n",
       "    <tr style=\"text-align: right;\">\n",
       "      <th></th>\n",
       "      <th>Population</th>\n",
       "      <th>GDP</th>\n",
       "      <th>Surface Area</th>\n",
       "      <th>HDI</th>\n",
       "      <th>Continent</th>\n",
       "    </tr>\n",
       "  </thead>\n",
       "  <tbody>\n",
       "    <tr>\n",
       "      <th>Germany</th>\n",
       "      <td>42</td>\n",
       "      <td>17648125</td>\n",
       "      <td>151854</td>\n",
       "      <td>0.91</td>\n",
       "      <td>Europe</td>\n",
       "    </tr>\n",
       "    <tr>\n",
       "      <th>Japan</th>\n",
       "      <td>19</td>\n",
       "      <td>15182159</td>\n",
       "      <td>4151664</td>\n",
       "      <td>0.88</td>\n",
       "      <td>Asia</td>\n",
       "    </tr>\n",
       "    <tr>\n",
       "      <th>United States</th>\n",
       "      <td>76</td>\n",
       "      <td>15418415</td>\n",
       "      <td>251854</td>\n",
       "      <td>0.90</td>\n",
       "      <td>America</td>\n",
       "    </tr>\n",
       "    <tr>\n",
       "      <th>Canada</th>\n",
       "      <td>8</td>\n",
       "      <td>46549863</td>\n",
       "      <td>1515</td>\n",
       "      <td>0.91</td>\n",
       "      <td>America</td>\n",
       "    </tr>\n",
       "  </tbody>\n",
       "</table>\n",
       "</div>"
      ],
      "text/plain": [
       "               Population       GDP  Surface Area   HDI Continent\n",
       "Germany                42  17648125        151854  0.91    Europe\n",
       "Japan                  19  15182159       4151664  0.88      Asia\n",
       "United States          76  15418415        251854  0.90   America\n",
       "Canada                  8  46549863          1515  0.91   America"
      ]
     },
     "execution_count": 35,
     "metadata": {},
     "output_type": "execute_result"
    }
   ],
   "source": [
    "df.iloc[[0,2,3,-1]]"
   ]
  },
  {
   "cell_type": "code",
   "execution_count": 36,
   "id": "6183c5dd-19c0-4b4f-89f9-cdb9da231342",
   "metadata": {},
   "outputs": [
    {
     "data": {
      "text/plain": [
       "Germany      0.91\n",
       "Argentina    0.89\n",
       "Japan        0.88\n",
       "Name: HDI, dtype: float64"
      ]
     },
     "execution_count": 36,
     "metadata": {},
     "output_type": "execute_result"
    }
   ],
   "source": [
    "#iloc just for numbers\n",
    "\n",
    "df.iloc[0:3, 3]"
   ]
  },
  {
   "cell_type": "markdown",
   "id": "23b8146a-d728-4a60-ae0b-6aa090332864",
   "metadata": {},
   "source": [
    "### Boolean Assessment"
   ]
  },
  {
   "cell_type": "code",
   "execution_count": 53,
   "id": "69b0a6d0-37c7-48da-a80f-4168a70e31ac",
   "metadata": {},
   "outputs": [
    {
     "data": {
      "text/plain": [
       "Germany          False\n",
       "Argentina        False\n",
       "Japan            False\n",
       "United States     True\n",
       "Italy            False\n",
       "Canada           False\n",
       "Name: Population, dtype: bool"
      ]
     },
     "execution_count": 53,
     "metadata": {},
     "output_type": "execute_result"
    }
   ],
   "source": [
    "# RETURNS A SERIE\n",
    "\n",
    "df[\"Population\"] > 70"
   ]
  },
  {
   "cell_type": "markdown",
   "id": "73f684c9-8942-4b79-9d50-6e107c791fc2",
   "metadata": {},
   "source": [
    "### Boolean filtering"
   ]
  },
  {
   "cell_type": "code",
   "execution_count": 58,
   "id": "61120be5-fde4-41cc-b19a-3c57e35362d0",
   "metadata": {},
   "outputs": [
    {
     "data": {
      "text/html": [
       "<div>\n",
       "<style scoped>\n",
       "    .dataframe tbody tr th:only-of-type {\n",
       "        vertical-align: middle;\n",
       "    }\n",
       "\n",
       "    .dataframe tbody tr th {\n",
       "        vertical-align: top;\n",
       "    }\n",
       "\n",
       "    .dataframe thead th {\n",
       "        text-align: right;\n",
       "    }\n",
       "</style>\n",
       "<table border=\"1\" class=\"dataframe\">\n",
       "  <thead>\n",
       "    <tr style=\"text-align: right;\">\n",
       "      <th></th>\n",
       "      <th>Population</th>\n",
       "      <th>GDP</th>\n",
       "      <th>Surface Area</th>\n",
       "      <th>HDI</th>\n",
       "      <th>Continent</th>\n",
       "    </tr>\n",
       "  </thead>\n",
       "  <tbody>\n",
       "    <tr>\n",
       "      <th>United States</th>\n",
       "      <td>76</td>\n",
       "      <td>15418415</td>\n",
       "      <td>251854</td>\n",
       "      <td>0.9</td>\n",
       "      <td>America</td>\n",
       "    </tr>\n",
       "  </tbody>\n",
       "</table>\n",
       "</div>"
      ],
      "text/plain": [
       "               Population       GDP  Surface Area  HDI Continent\n",
       "United States          76  15418415        251854  0.9   America"
      ]
     },
     "execution_count": 58,
     "metadata": {},
     "output_type": "execute_result"
    }
   ],
   "source": [
    "# By Columns RETURNS A DATAFRAME\n",
    "\n",
    "df[df[\"Population\"]>70]"
   ]
  },
  {
   "cell_type": "code",
   "execution_count": 59,
   "id": "0536deb8-561a-4702-942e-e8a48acfd41d",
   "metadata": {},
   "outputs": [
    {
     "data": {
      "text/html": [
       "<div>\n",
       "<style scoped>\n",
       "    .dataframe tbody tr th:only-of-type {\n",
       "        vertical-align: middle;\n",
       "    }\n",
       "\n",
       "    .dataframe tbody tr th {\n",
       "        vertical-align: top;\n",
       "    }\n",
       "\n",
       "    .dataframe thead th {\n",
       "        text-align: right;\n",
       "    }\n",
       "</style>\n",
       "<table border=\"1\" class=\"dataframe\">\n",
       "  <thead>\n",
       "    <tr style=\"text-align: right;\">\n",
       "      <th></th>\n",
       "      <th>GDP</th>\n",
       "      <th>HDI</th>\n",
       "    </tr>\n",
       "  </thead>\n",
       "  <tbody>\n",
       "    <tr>\n",
       "      <th>Argentina</th>\n",
       "      <td>56894236</td>\n",
       "      <td>0.89</td>\n",
       "    </tr>\n",
       "    <tr>\n",
       "      <th>United States</th>\n",
       "      <td>15418415</td>\n",
       "      <td>0.90</td>\n",
       "    </tr>\n",
       "  </tbody>\n",
       "</table>\n",
       "</div>"
      ],
      "text/plain": [
       "                    GDP   HDI\n",
       "Argentina      56894236  0.89\n",
       "United States  15418415  0.90"
      ]
     },
     "execution_count": 59,
     "metadata": {},
     "output_type": "execute_result"
    }
   ],
   "source": [
    "#By Columns but less code-efficient RETURNS A DATAFRAME\n",
    "\n",
    "#Condition to asses the indexes, #The returns we want to see\n",
    "df.loc[df[\"Population\"]>50, [\"GDP\",\"HDI\"]]"
   ]
  },
  {
   "cell_type": "markdown",
   "id": "271ba064-5be4-4168-8adf-18f26993fc9a",
   "metadata": {},
   "source": [
    "### DROPPING (LIKE DISCARD)"
   ]
  },
  {
   "cell_type": "code",
   "execution_count": 60,
   "id": "f1010a83-caf2-4adb-89f6-e70f4a6279e5",
   "metadata": {},
   "outputs": [
    {
     "data": {
      "text/html": [
       "<div>\n",
       "<style scoped>\n",
       "    .dataframe tbody tr th:only-of-type {\n",
       "        vertical-align: middle;\n",
       "    }\n",
       "\n",
       "    .dataframe tbody tr th {\n",
       "        vertical-align: top;\n",
       "    }\n",
       "\n",
       "    .dataframe thead th {\n",
       "        text-align: right;\n",
       "    }\n",
       "</style>\n",
       "<table border=\"1\" class=\"dataframe\">\n",
       "  <thead>\n",
       "    <tr style=\"text-align: right;\">\n",
       "      <th></th>\n",
       "      <th>Population</th>\n",
       "      <th>GDP</th>\n",
       "      <th>Surface Area</th>\n",
       "      <th>HDI</th>\n",
       "      <th>Continent</th>\n",
       "    </tr>\n",
       "  </thead>\n",
       "  <tbody>\n",
       "    <tr>\n",
       "      <th>Germany</th>\n",
       "      <td>42</td>\n",
       "      <td>17648125</td>\n",
       "      <td>151854</td>\n",
       "      <td>0.910</td>\n",
       "      <td>Europe</td>\n",
       "    </tr>\n",
       "    <tr>\n",
       "      <th>Argentina</th>\n",
       "      <td>63</td>\n",
       "      <td>56894236</td>\n",
       "      <td>416414</td>\n",
       "      <td>0.890</td>\n",
       "      <td>America</td>\n",
       "    </tr>\n",
       "    <tr>\n",
       "      <th>United States</th>\n",
       "      <td>76</td>\n",
       "      <td>15418415</td>\n",
       "      <td>251854</td>\n",
       "      <td>0.900</td>\n",
       "      <td>America</td>\n",
       "    </tr>\n",
       "    <tr>\n",
       "      <th>Italy</th>\n",
       "      <td>27</td>\n",
       "      <td>41541541</td>\n",
       "      <td>154185</td>\n",
       "      <td>0.897</td>\n",
       "      <td>Europe</td>\n",
       "    </tr>\n",
       "  </tbody>\n",
       "</table>\n",
       "</div>"
      ],
      "text/plain": [
       "               Population       GDP  Surface Area    HDI Continent\n",
       "Germany                42  17648125        151854  0.910    Europe\n",
       "Argentina              63  56894236        416414  0.890   America\n",
       "United States          76  15418415        251854  0.900   America\n",
       "Italy                  27  41541541        154185  0.897    Europe"
      ]
     },
     "execution_count": 60,
     "metadata": {},
     "output_type": "execute_result"
    }
   ],
   "source": [
    "#BY INDEX\n",
    "df.drop([\"Canada\",\"Japan\"])"
   ]
  },
  {
   "cell_type": "code",
   "execution_count": 61,
   "id": "cc4f3ebc-738e-458e-8985-e1686ac03a3d",
   "metadata": {},
   "outputs": [
    {
     "data": {
      "text/html": [
       "<div>\n",
       "<style scoped>\n",
       "    .dataframe tbody tr th:only-of-type {\n",
       "        vertical-align: middle;\n",
       "    }\n",
       "\n",
       "    .dataframe tbody tr th {\n",
       "        vertical-align: top;\n",
       "    }\n",
       "\n",
       "    .dataframe thead th {\n",
       "        text-align: right;\n",
       "    }\n",
       "</style>\n",
       "<table border=\"1\" class=\"dataframe\">\n",
       "  <thead>\n",
       "    <tr style=\"text-align: right;\">\n",
       "      <th></th>\n",
       "      <th>Surface Area</th>\n",
       "      <th>HDI</th>\n",
       "      <th>Continent</th>\n",
       "    </tr>\n",
       "  </thead>\n",
       "  <tbody>\n",
       "    <tr>\n",
       "      <th>Germany</th>\n",
       "      <td>151854</td>\n",
       "      <td>0.910</td>\n",
       "      <td>Europe</td>\n",
       "    </tr>\n",
       "    <tr>\n",
       "      <th>Argentina</th>\n",
       "      <td>416414</td>\n",
       "      <td>0.890</td>\n",
       "      <td>America</td>\n",
       "    </tr>\n",
       "    <tr>\n",
       "      <th>Japan</th>\n",
       "      <td>4151664</td>\n",
       "      <td>0.880</td>\n",
       "      <td>Asia</td>\n",
       "    </tr>\n",
       "    <tr>\n",
       "      <th>United States</th>\n",
       "      <td>251854</td>\n",
       "      <td>0.900</td>\n",
       "      <td>America</td>\n",
       "    </tr>\n",
       "    <tr>\n",
       "      <th>Italy</th>\n",
       "      <td>154185</td>\n",
       "      <td>0.897</td>\n",
       "      <td>Europe</td>\n",
       "    </tr>\n",
       "    <tr>\n",
       "      <th>Canada</th>\n",
       "      <td>1515</td>\n",
       "      <td>0.910</td>\n",
       "      <td>America</td>\n",
       "    </tr>\n",
       "  </tbody>\n",
       "</table>\n",
       "</div>"
      ],
      "text/plain": [
       "               Surface Area    HDI Continent\n",
       "Germany              151854  0.910    Europe\n",
       "Argentina            416414  0.890   America\n",
       "Japan               4151664  0.880      Asia\n",
       "United States        251854  0.900   America\n",
       "Italy                154185  0.897    Europe\n",
       "Canada                 1515  0.910   America"
      ]
     },
     "execution_count": 61,
     "metadata": {},
     "output_type": "execute_result"
    }
   ],
   "source": [
    "#BY COLUMNS\n",
    "df.drop(columns=[\"Population\",\"GDP\"])"
   ]
  },
  {
   "cell_type": "markdown",
   "id": "2c5ebee2-63fe-46ab-a924-80580f6d66d3",
   "metadata": {},
   "source": [
    "### OPERATIONS"
   ]
  },
  {
   "cell_type": "code",
   "execution_count": 70,
   "id": "436d4cc4-f52f-4367-8b1a-9a94cc8ecbec",
   "metadata": {},
   "outputs": [
    {
     "data": {
      "text/plain": [
       "GDP   -1000000.0\n",
       "HDI         -0.3\n",
       "dtype: float64"
      ]
     },
     "execution_count": 70,
     "metadata": {},
     "output_type": "execute_result"
    }
   ],
   "source": [
    "#To broadcast or vectorize\n",
    "crisis=pd.Series([-1_000_000,-0.3],index=[\"GDP\",\"HDI\"])\n",
    "crisis"
   ]
  },
  {
   "cell_type": "code",
   "execution_count": 71,
   "id": "55c06de6-dda3-4a57-bc2b-fcf9242fe5b9",
   "metadata": {},
   "outputs": [
    {
     "data": {
      "text/html": [
       "<div>\n",
       "<style scoped>\n",
       "    .dataframe tbody tr th:only-of-type {\n",
       "        vertical-align: middle;\n",
       "    }\n",
       "\n",
       "    .dataframe tbody tr th {\n",
       "        vertical-align: top;\n",
       "    }\n",
       "\n",
       "    .dataframe thead th {\n",
       "        text-align: right;\n",
       "    }\n",
       "</style>\n",
       "<table border=\"1\" class=\"dataframe\">\n",
       "  <thead>\n",
       "    <tr style=\"text-align: right;\">\n",
       "      <th></th>\n",
       "      <th>GDP</th>\n",
       "      <th>HDI</th>\n",
       "    </tr>\n",
       "  </thead>\n",
       "  <tbody>\n",
       "    <tr>\n",
       "      <th>Germany</th>\n",
       "      <td>16648125.0</td>\n",
       "      <td>0.610</td>\n",
       "    </tr>\n",
       "    <tr>\n",
       "      <th>Argentina</th>\n",
       "      <td>55894236.0</td>\n",
       "      <td>0.590</td>\n",
       "    </tr>\n",
       "    <tr>\n",
       "      <th>Japan</th>\n",
       "      <td>14182159.0</td>\n",
       "      <td>0.580</td>\n",
       "    </tr>\n",
       "    <tr>\n",
       "      <th>United States</th>\n",
       "      <td>14418415.0</td>\n",
       "      <td>0.600</td>\n",
       "    </tr>\n",
       "    <tr>\n",
       "      <th>Italy</th>\n",
       "      <td>40541541.0</td>\n",
       "      <td>0.597</td>\n",
       "    </tr>\n",
       "    <tr>\n",
       "      <th>Canada</th>\n",
       "      <td>45549863.0</td>\n",
       "      <td>0.610</td>\n",
       "    </tr>\n",
       "  </tbody>\n",
       "</table>\n",
       "</div>"
      ],
      "text/plain": [
       "                      GDP    HDI\n",
       "Germany        16648125.0  0.610\n",
       "Argentina      55894236.0  0.590\n",
       "Japan          14182159.0  0.580\n",
       "United States  14418415.0  0.600\n",
       "Italy          40541541.0  0.597\n",
       "Canada         45549863.0  0.610"
      ]
     },
     "execution_count": 71,
     "metadata": {},
     "output_type": "execute_result"
    }
   ],
   "source": [
    "#THE RESULT WILL BE WITH 1000000 less in GDP and 0.3 less in HDI\n",
    "df[[\"GDP\",\"HDI\"]]+crisis"
   ]
  },
  {
   "cell_type": "markdown",
   "id": "356b52c6-9196-4b4d-ab7b-2e9ded4b570e",
   "metadata": {},
   "source": [
    "### Modifying a frame"
   ]
  },
  {
   "cell_type": "code",
   "execution_count": 73,
   "id": "998a6a40-9d09-401d-a5eb-57c5eb143448",
   "metadata": {},
   "outputs": [],
   "source": [
    "langs=pd.Series([\"Japanese\",\"English\",\"Italian\"],\n",
    "                 index=[\"Japan\", \"United States\",\"Italy\"],\n",
    "                 name=\"Languages\")"
   ]
  },
  {
   "cell_type": "code",
   "execution_count": 74,
   "id": "afae3f5b-53bb-459f-95d2-000c2b148612",
   "metadata": {},
   "outputs": [],
   "source": [
    "df[\"Language\"]=langs"
   ]
  },
  {
   "cell_type": "code",
   "execution_count": 75,
   "id": "9fd058d6-d8a2-46cb-b857-ecc10c64f570",
   "metadata": {},
   "outputs": [
    {
     "data": {
      "text/html": [
       "<div>\n",
       "<style scoped>\n",
       "    .dataframe tbody tr th:only-of-type {\n",
       "        vertical-align: middle;\n",
       "    }\n",
       "\n",
       "    .dataframe tbody tr th {\n",
       "        vertical-align: top;\n",
       "    }\n",
       "\n",
       "    .dataframe thead th {\n",
       "        text-align: right;\n",
       "    }\n",
       "</style>\n",
       "<table border=\"1\" class=\"dataframe\">\n",
       "  <thead>\n",
       "    <tr style=\"text-align: right;\">\n",
       "      <th></th>\n",
       "      <th>Population</th>\n",
       "      <th>GDP</th>\n",
       "      <th>Surface Area</th>\n",
       "      <th>HDI</th>\n",
       "      <th>Continent</th>\n",
       "      <th>Language</th>\n",
       "    </tr>\n",
       "  </thead>\n",
       "  <tbody>\n",
       "    <tr>\n",
       "      <th>Germany</th>\n",
       "      <td>42</td>\n",
       "      <td>17648125</td>\n",
       "      <td>151854</td>\n",
       "      <td>0.910</td>\n",
       "      <td>Europe</td>\n",
       "      <td>NaN</td>\n",
       "    </tr>\n",
       "    <tr>\n",
       "      <th>Argentina</th>\n",
       "      <td>63</td>\n",
       "      <td>56894236</td>\n",
       "      <td>416414</td>\n",
       "      <td>0.890</td>\n",
       "      <td>America</td>\n",
       "      <td>NaN</td>\n",
       "    </tr>\n",
       "    <tr>\n",
       "      <th>Japan</th>\n",
       "      <td>19</td>\n",
       "      <td>15182159</td>\n",
       "      <td>4151664</td>\n",
       "      <td>0.880</td>\n",
       "      <td>Asia</td>\n",
       "      <td>Japanese</td>\n",
       "    </tr>\n",
       "    <tr>\n",
       "      <th>United States</th>\n",
       "      <td>76</td>\n",
       "      <td>15418415</td>\n",
       "      <td>251854</td>\n",
       "      <td>0.900</td>\n",
       "      <td>America</td>\n",
       "      <td>English</td>\n",
       "    </tr>\n",
       "    <tr>\n",
       "      <th>Italy</th>\n",
       "      <td>27</td>\n",
       "      <td>41541541</td>\n",
       "      <td>154185</td>\n",
       "      <td>0.897</td>\n",
       "      <td>Europe</td>\n",
       "      <td>Italian</td>\n",
       "    </tr>\n",
       "    <tr>\n",
       "      <th>Canada</th>\n",
       "      <td>8</td>\n",
       "      <td>46549863</td>\n",
       "      <td>1515</td>\n",
       "      <td>0.910</td>\n",
       "      <td>America</td>\n",
       "      <td>NaN</td>\n",
       "    </tr>\n",
       "  </tbody>\n",
       "</table>\n",
       "</div>"
      ],
      "text/plain": [
       "               Population       GDP  Surface Area    HDI Continent  Language\n",
       "Germany                42  17648125        151854  0.910    Europe       NaN\n",
       "Argentina              63  56894236        416414  0.890   America       NaN\n",
       "Japan                  19  15182159       4151664  0.880      Asia  Japanese\n",
       "United States          76  15418415        251854  0.900   America   English\n",
       "Italy                  27  41541541        154185  0.897    Europe   Italian\n",
       "Canada                  8  46549863          1515  0.910   America       NaN"
      ]
     },
     "execution_count": 75,
     "metadata": {},
     "output_type": "execute_result"
    }
   ],
   "source": [
    "df"
   ]
  },
  {
   "cell_type": "code",
   "execution_count": 76,
   "id": "34168ced-eb6c-4187-bab6-99646e716b0e",
   "metadata": {},
   "outputs": [],
   "source": [
    "df[\"Language\"]=\"Lang\""
   ]
  },
  {
   "cell_type": "code",
   "execution_count": 78,
   "id": "447d9d09-5868-4bdf-b3f8-80f7c8cd9e57",
   "metadata": {},
   "outputs": [
    {
     "data": {
      "text/html": [
       "<div>\n",
       "<style scoped>\n",
       "    .dataframe tbody tr th:only-of-type {\n",
       "        vertical-align: middle;\n",
       "    }\n",
       "\n",
       "    .dataframe tbody tr th {\n",
       "        vertical-align: top;\n",
       "    }\n",
       "\n",
       "    .dataframe thead th {\n",
       "        text-align: right;\n",
       "    }\n",
       "</style>\n",
       "<table border=\"1\" class=\"dataframe\">\n",
       "  <thead>\n",
       "    <tr style=\"text-align: right;\">\n",
       "      <th></th>\n",
       "      <th>Population</th>\n",
       "      <th>GDP</th>\n",
       "      <th>Surface Area</th>\n",
       "      <th>HDI</th>\n",
       "      <th>Continent</th>\n",
       "      <th>Language</th>\n",
       "    </tr>\n",
       "  </thead>\n",
       "  <tbody>\n",
       "    <tr>\n",
       "      <th>Germany</th>\n",
       "      <td>42</td>\n",
       "      <td>17648125</td>\n",
       "      <td>151854</td>\n",
       "      <td>0.910</td>\n",
       "      <td>Europe</td>\n",
       "      <td>Lang</td>\n",
       "    </tr>\n",
       "    <tr>\n",
       "      <th>Argentina</th>\n",
       "      <td>63</td>\n",
       "      <td>56894236</td>\n",
       "      <td>416414</td>\n",
       "      <td>0.890</td>\n",
       "      <td>America</td>\n",
       "      <td>Lang</td>\n",
       "    </tr>\n",
       "    <tr>\n",
       "      <th>Japan</th>\n",
       "      <td>19</td>\n",
       "      <td>15182159</td>\n",
       "      <td>4151664</td>\n",
       "      <td>0.880</td>\n",
       "      <td>Asia</td>\n",
       "      <td>Lang</td>\n",
       "    </tr>\n",
       "    <tr>\n",
       "      <th>United States</th>\n",
       "      <td>76</td>\n",
       "      <td>15418415</td>\n",
       "      <td>251854</td>\n",
       "      <td>0.900</td>\n",
       "      <td>America</td>\n",
       "      <td>Lang</td>\n",
       "    </tr>\n",
       "    <tr>\n",
       "      <th>Italy</th>\n",
       "      <td>27</td>\n",
       "      <td>41541541</td>\n",
       "      <td>154185</td>\n",
       "      <td>0.897</td>\n",
       "      <td>Europe</td>\n",
       "      <td>Lang</td>\n",
       "    </tr>\n",
       "    <tr>\n",
       "      <th>Canada</th>\n",
       "      <td>8</td>\n",
       "      <td>46549863</td>\n",
       "      <td>1515</td>\n",
       "      <td>0.910</td>\n",
       "      <td>America</td>\n",
       "      <td>Lang</td>\n",
       "    </tr>\n",
       "  </tbody>\n",
       "</table>\n",
       "</div>"
      ],
      "text/plain": [
       "               Population       GDP  Surface Area    HDI Continent Language\n",
       "Germany                42  17648125        151854  0.910    Europe     Lang\n",
       "Argentina              63  56894236        416414  0.890   America     Lang\n",
       "Japan                  19  15182159       4151664  0.880      Asia     Lang\n",
       "United States          76  15418415        251854  0.900   America     Lang\n",
       "Italy                  27  41541541        154185  0.897    Europe     Lang\n",
       "Canada                  8  46549863          1515  0.910   America     Lang"
      ]
     },
     "execution_count": 78,
     "metadata": {},
     "output_type": "execute_result"
    }
   ],
   "source": [
    "df"
   ]
  },
  {
   "cell_type": "code",
   "execution_count": 80,
   "id": "a2234e05-5d31-4e93-a0cb-e0bdb2df6e7b",
   "metadata": {},
   "outputs": [
    {
     "data": {
      "text/html": [
       "<div>\n",
       "<style scoped>\n",
       "    .dataframe tbody tr th:only-of-type {\n",
       "        vertical-align: middle;\n",
       "    }\n",
       "\n",
       "    .dataframe tbody tr th {\n",
       "        vertical-align: top;\n",
       "    }\n",
       "\n",
       "    .dataframe thead th {\n",
       "        text-align: right;\n",
       "    }\n",
       "</style>\n",
       "<table border=\"1\" class=\"dataframe\">\n",
       "  <thead>\n",
       "    <tr style=\"text-align: right;\">\n",
       "      <th></th>\n",
       "      <th>Population</th>\n",
       "      <th>GDP</th>\n",
       "      <th>Surface Area</th>\n",
       "      <th>Human Development Index</th>\n",
       "      <th>Continent</th>\n",
       "      <th>Language</th>\n",
       "    </tr>\n",
       "  </thead>\n",
       "  <tbody>\n",
       "    <tr>\n",
       "      <th>Germany</th>\n",
       "      <td>42</td>\n",
       "      <td>17648125</td>\n",
       "      <td>151854</td>\n",
       "      <td>0.910</td>\n",
       "      <td>Europe</td>\n",
       "      <td>Lang</td>\n",
       "    </tr>\n",
       "    <tr>\n",
       "      <th>Argentina</th>\n",
       "      <td>63</td>\n",
       "      <td>56894236</td>\n",
       "      <td>416414</td>\n",
       "      <td>0.890</td>\n",
       "      <td>America</td>\n",
       "      <td>Lang</td>\n",
       "    </tr>\n",
       "    <tr>\n",
       "      <th>Japan</th>\n",
       "      <td>19</td>\n",
       "      <td>15182159</td>\n",
       "      <td>4151664</td>\n",
       "      <td>0.880</td>\n",
       "      <td>Asia</td>\n",
       "      <td>Lang</td>\n",
       "    </tr>\n",
       "    <tr>\n",
       "      <th>United States</th>\n",
       "      <td>76</td>\n",
       "      <td>15418415</td>\n",
       "      <td>251854</td>\n",
       "      <td>0.900</td>\n",
       "      <td>America</td>\n",
       "      <td>Lang</td>\n",
       "    </tr>\n",
       "    <tr>\n",
       "      <th>Italy</th>\n",
       "      <td>27</td>\n",
       "      <td>41541541</td>\n",
       "      <td>154185</td>\n",
       "      <td>0.897</td>\n",
       "      <td>Europe</td>\n",
       "      <td>Lang</td>\n",
       "    </tr>\n",
       "    <tr>\n",
       "      <th>Canada</th>\n",
       "      <td>8</td>\n",
       "      <td>46549863</td>\n",
       "      <td>1515</td>\n",
       "      <td>0.910</td>\n",
       "      <td>America</td>\n",
       "      <td>Lang</td>\n",
       "    </tr>\n",
       "  </tbody>\n",
       "</table>\n",
       "</div>"
      ],
      "text/plain": [
       "               Population       GDP  Surface Area  Human Development Index  \\\n",
       "Germany                42  17648125        151854                    0.910   \n",
       "Argentina              63  56894236        416414                    0.890   \n",
       "Japan                  19  15182159       4151664                    0.880   \n",
       "United States          76  15418415        251854                    0.900   \n",
       "Italy                  27  41541541        154185                    0.897   \n",
       "Canada                  8  46549863          1515                    0.910   \n",
       "\n",
       "              Continent Language  \n",
       "Germany          Europe     Lang  \n",
       "Argentina       America     Lang  \n",
       "Japan              Asia     Lang  \n",
       "United States   America     Lang  \n",
       "Italy            Europe     Lang  \n",
       "Canada          America     Lang  "
      ]
     },
     "execution_count": 80,
     "metadata": {},
     "output_type": "execute_result"
    }
   ],
   "source": [
    "df.rename(\n",
    "    columns={\n",
    "        \"HDI\":\"Human Development Index\",\n",
    "        \"Anual Popcorn Consumption\":\"APC\"\n",
    "        #This last one is one example that doesn't modify anything\n",
    "    },\n",
    "    index={\n",
    "        \"USA\":\"United States\",\n",
    "        \"UK\":\"United Kingdom\"\n",
    "    }\n",
    "    \n",
    ")"
   ]
  },
  {
   "cell_type": "code",
   "execution_count": 81,
   "id": "c94c1df5-d3ad-4096-842c-77491fd968e1",
   "metadata": {},
   "outputs": [
    {
     "data": {
      "text/html": [
       "<div>\n",
       "<style scoped>\n",
       "    .dataframe tbody tr th:only-of-type {\n",
       "        vertical-align: middle;\n",
       "    }\n",
       "\n",
       "    .dataframe tbody tr th {\n",
       "        vertical-align: top;\n",
       "    }\n",
       "\n",
       "    .dataframe thead th {\n",
       "        text-align: right;\n",
       "    }\n",
       "</style>\n",
       "<table border=\"1\" class=\"dataframe\">\n",
       "  <thead>\n",
       "    <tr style=\"text-align: right;\">\n",
       "      <th></th>\n",
       "      <th>Population</th>\n",
       "      <th>GDP</th>\n",
       "      <th>Surface Area</th>\n",
       "      <th>HDI</th>\n",
       "      <th>Continent</th>\n",
       "      <th>Language</th>\n",
       "    </tr>\n",
       "  </thead>\n",
       "  <tbody>\n",
       "    <tr>\n",
       "      <th>Germany</th>\n",
       "      <td>42</td>\n",
       "      <td>17648125</td>\n",
       "      <td>151854</td>\n",
       "      <td>0.910</td>\n",
       "      <td>Europe</td>\n",
       "      <td>Lang</td>\n",
       "    </tr>\n",
       "    <tr>\n",
       "      <th>Argentina</th>\n",
       "      <td>63</td>\n",
       "      <td>56894236</td>\n",
       "      <td>416414</td>\n",
       "      <td>0.890</td>\n",
       "      <td>America</td>\n",
       "      <td>Lang</td>\n",
       "    </tr>\n",
       "    <tr>\n",
       "      <th>Japan</th>\n",
       "      <td>19</td>\n",
       "      <td>15182159</td>\n",
       "      <td>4151664</td>\n",
       "      <td>0.880</td>\n",
       "      <td>Asia</td>\n",
       "      <td>Lang</td>\n",
       "    </tr>\n",
       "    <tr>\n",
       "      <th>United States</th>\n",
       "      <td>76</td>\n",
       "      <td>15418415</td>\n",
       "      <td>251854</td>\n",
       "      <td>0.900</td>\n",
       "      <td>America</td>\n",
       "      <td>Lang</td>\n",
       "    </tr>\n",
       "    <tr>\n",
       "      <th>Italy</th>\n",
       "      <td>27</td>\n",
       "      <td>41541541</td>\n",
       "      <td>154185</td>\n",
       "      <td>0.897</td>\n",
       "      <td>Europe</td>\n",
       "      <td>Lang</td>\n",
       "    </tr>\n",
       "    <tr>\n",
       "      <th>Canada</th>\n",
       "      <td>8</td>\n",
       "      <td>46549863</td>\n",
       "      <td>1515</td>\n",
       "      <td>0.910</td>\n",
       "      <td>America</td>\n",
       "      <td>Lang</td>\n",
       "    </tr>\n",
       "  </tbody>\n",
       "</table>\n",
       "</div>"
      ],
      "text/plain": [
       "               Population       GDP  Surface Area    HDI Continent Language\n",
       "Germany                42  17648125        151854  0.910    Europe     Lang\n",
       "Argentina              63  56894236        416414  0.890   America     Lang\n",
       "Japan                  19  15182159       4151664  0.880      Asia     Lang\n",
       "United States          76  15418415        251854  0.900   America     Lang\n",
       "Italy                  27  41541541        154185  0.897    Europe     Lang\n",
       "Canada                  8  46549863          1515  0.910   America     Lang"
      ]
     },
     "execution_count": 81,
     "metadata": {},
     "output_type": "execute_result"
    }
   ],
   "source": [
    "df"
   ]
  },
  {
   "cell_type": "markdown",
   "id": "284f460e-e1c2-4ca5-8c93-cc43ae37231a",
   "metadata": {},
   "source": [
    "### Adding a new column with an operation between the existing columns"
   ]
  },
  {
   "cell_type": "code",
   "execution_count": 82,
   "id": "7dac3dc0-69b7-442f-a365-fb507068b138",
   "metadata": {},
   "outputs": [
    {
     "data": {
      "text/html": [
       "<div>\n",
       "<style scoped>\n",
       "    .dataframe tbody tr th:only-of-type {\n",
       "        vertical-align: middle;\n",
       "    }\n",
       "\n",
       "    .dataframe tbody tr th {\n",
       "        vertical-align: top;\n",
       "    }\n",
       "\n",
       "    .dataframe thead th {\n",
       "        text-align: right;\n",
       "    }\n",
       "</style>\n",
       "<table border=\"1\" class=\"dataframe\">\n",
       "  <thead>\n",
       "    <tr style=\"text-align: right;\">\n",
       "      <th></th>\n",
       "      <th>Population</th>\n",
       "      <th>GDP</th>\n",
       "      <th>Surface Area</th>\n",
       "      <th>HDI</th>\n",
       "      <th>Continent</th>\n",
       "      <th>Language</th>\n",
       "      <th>GDP Per Capita</th>\n",
       "    </tr>\n",
       "  </thead>\n",
       "  <tbody>\n",
       "    <tr>\n",
       "      <th>Germany</th>\n",
       "      <td>42</td>\n",
       "      <td>17648125</td>\n",
       "      <td>151854</td>\n",
       "      <td>0.910</td>\n",
       "      <td>Europe</td>\n",
       "      <td>Lang</td>\n",
       "      <td>4.201935e+05</td>\n",
       "    </tr>\n",
       "    <tr>\n",
       "      <th>Argentina</th>\n",
       "      <td>63</td>\n",
       "      <td>56894236</td>\n",
       "      <td>416414</td>\n",
       "      <td>0.890</td>\n",
       "      <td>America</td>\n",
       "      <td>Lang</td>\n",
       "      <td>9.030831e+05</td>\n",
       "    </tr>\n",
       "    <tr>\n",
       "      <th>Japan</th>\n",
       "      <td>19</td>\n",
       "      <td>15182159</td>\n",
       "      <td>4151664</td>\n",
       "      <td>0.880</td>\n",
       "      <td>Asia</td>\n",
       "      <td>Lang</td>\n",
       "      <td>7.990610e+05</td>\n",
       "    </tr>\n",
       "    <tr>\n",
       "      <th>United States</th>\n",
       "      <td>76</td>\n",
       "      <td>15418415</td>\n",
       "      <td>251854</td>\n",
       "      <td>0.900</td>\n",
       "      <td>America</td>\n",
       "      <td>Lang</td>\n",
       "      <td>2.028739e+05</td>\n",
       "    </tr>\n",
       "    <tr>\n",
       "      <th>Italy</th>\n",
       "      <td>27</td>\n",
       "      <td>41541541</td>\n",
       "      <td>154185</td>\n",
       "      <td>0.897</td>\n",
       "      <td>Europe</td>\n",
       "      <td>Lang</td>\n",
       "      <td>1.538576e+06</td>\n",
       "    </tr>\n",
       "    <tr>\n",
       "      <th>Canada</th>\n",
       "      <td>8</td>\n",
       "      <td>46549863</td>\n",
       "      <td>1515</td>\n",
       "      <td>0.910</td>\n",
       "      <td>America</td>\n",
       "      <td>Lang</td>\n",
       "      <td>5.818733e+06</td>\n",
       "    </tr>\n",
       "  </tbody>\n",
       "</table>\n",
       "</div>"
      ],
      "text/plain": [
       "               Population       GDP  Surface Area    HDI Continent Language  \\\n",
       "Germany                42  17648125        151854  0.910    Europe     Lang   \n",
       "Argentina              63  56894236        416414  0.890   America     Lang   \n",
       "Japan                  19  15182159       4151664  0.880      Asia     Lang   \n",
       "United States          76  15418415        251854  0.900   America     Lang   \n",
       "Italy                  27  41541541        154185  0.897    Europe     Lang   \n",
       "Canada                  8  46549863          1515  0.910   America     Lang   \n",
       "\n",
       "               GDP Per Capita  \n",
       "Germany          4.201935e+05  \n",
       "Argentina        9.030831e+05  \n",
       "Japan            7.990610e+05  \n",
       "United States    2.028739e+05  \n",
       "Italy            1.538576e+06  \n",
       "Canada           5.818733e+06  "
      ]
     },
     "execution_count": 82,
     "metadata": {},
     "output_type": "execute_result"
    }
   ],
   "source": [
    "df[\"GDP Per Capita\"]=df[\"GDP\"]/df[\"Population\"]\n",
    "df"
   ]
  },
  {
   "cell_type": "code",
   "execution_count": 83,
   "id": "1ed0da21-6181-4291-8707-e06c2d5a3b8b",
   "metadata": {},
   "outputs": [
    {
     "data": {
      "text/html": [
       "<div>\n",
       "<style scoped>\n",
       "    .dataframe tbody tr th:only-of-type {\n",
       "        vertical-align: middle;\n",
       "    }\n",
       "\n",
       "    .dataframe tbody tr th {\n",
       "        vertical-align: top;\n",
       "    }\n",
       "\n",
       "    .dataframe thead th {\n",
       "        text-align: right;\n",
       "    }\n",
       "</style>\n",
       "<table border=\"1\" class=\"dataframe\">\n",
       "  <thead>\n",
       "    <tr style=\"text-align: right;\">\n",
       "      <th></th>\n",
       "      <th>Population</th>\n",
       "      <th>GDP</th>\n",
       "      <th>Surface Area</th>\n",
       "      <th>HDI</th>\n",
       "      <th>Continent</th>\n",
       "      <th>Language</th>\n",
       "      <th>GDP Per Capita</th>\n",
       "    </tr>\n",
       "  </thead>\n",
       "  <tbody>\n",
       "    <tr>\n",
       "      <th>Germany</th>\n",
       "      <td>42</td>\n",
       "      <td>17648125</td>\n",
       "      <td>151854</td>\n",
       "      <td>0.910</td>\n",
       "      <td>Europe</td>\n",
       "      <td>Lang</td>\n",
       "      <td>4.201935e+05</td>\n",
       "    </tr>\n",
       "    <tr>\n",
       "      <th>Argentina</th>\n",
       "      <td>63</td>\n",
       "      <td>56894236</td>\n",
       "      <td>416414</td>\n",
       "      <td>0.890</td>\n",
       "      <td>America</td>\n",
       "      <td>Lang</td>\n",
       "      <td>9.030831e+05</td>\n",
       "    </tr>\n",
       "    <tr>\n",
       "      <th>Japan</th>\n",
       "      <td>19</td>\n",
       "      <td>15182159</td>\n",
       "      <td>4151664</td>\n",
       "      <td>0.880</td>\n",
       "      <td>Asia</td>\n",
       "      <td>Lang</td>\n",
       "      <td>7.990610e+05</td>\n",
       "    </tr>\n",
       "    <tr>\n",
       "      <th>United States</th>\n",
       "      <td>76</td>\n",
       "      <td>15418415</td>\n",
       "      <td>251854</td>\n",
       "      <td>0.900</td>\n",
       "      <td>America</td>\n",
       "      <td>Lang</td>\n",
       "      <td>2.028739e+05</td>\n",
       "    </tr>\n",
       "    <tr>\n",
       "      <th>Italy</th>\n",
       "      <td>27</td>\n",
       "      <td>41541541</td>\n",
       "      <td>154185</td>\n",
       "      <td>0.897</td>\n",
       "      <td>Europe</td>\n",
       "      <td>Lang</td>\n",
       "      <td>1.538576e+06</td>\n",
       "    </tr>\n",
       "  </tbody>\n",
       "</table>\n",
       "</div>"
      ],
      "text/plain": [
       "               Population       GDP  Surface Area    HDI Continent Language  \\\n",
       "Germany                42  17648125        151854  0.910    Europe     Lang   \n",
       "Argentina              63  56894236        416414  0.890   America     Lang   \n",
       "Japan                  19  15182159       4151664  0.880      Asia     Lang   \n",
       "United States          76  15418415        251854  0.900   America     Lang   \n",
       "Italy                  27  41541541        154185  0.897    Europe     Lang   \n",
       "\n",
       "               GDP Per Capita  \n",
       "Germany          4.201935e+05  \n",
       "Argentina        9.030831e+05  \n",
       "Japan            7.990610e+05  \n",
       "United States    2.028739e+05  \n",
       "Italy            1.538576e+06  "
      ]
     },
     "execution_count": 83,
     "metadata": {},
     "output_type": "execute_result"
    }
   ],
   "source": [
    "df.head()"
   ]
  },
  {
   "cell_type": "code",
   "execution_count": 86,
   "id": "c93462e8-b595-451d-a897-dc1604f13815",
   "metadata": {},
   "outputs": [
    {
     "data": {
      "text/plain": [
       "Germany          4.201935e+05\n",
       "Argentina        9.030831e+05\n",
       "Japan            7.990610e+05\n",
       "United States    2.028739e+05\n",
       "Italy            1.538576e+06\n",
       "Canada           5.818733e+06\n",
       "dtype: float64"
      ]
     },
     "execution_count": 86,
     "metadata": {},
     "output_type": "execute_result"
    }
   ],
   "source": [
    "#Just a \"Series\"\n",
    "df[\"GDP\"]/df[\"Population\"]"
   ]
  },
  {
   "cell_type": "code",
   "execution_count": null,
   "id": "58bc6c09-0ba5-4d35-a247-2c9506a13b97",
   "metadata": {},
   "outputs": [],
   "source": []
  }
 ],
 "metadata": {
  "kernelspec": {
   "display_name": "dataAnalytics",
   "language": "python",
   "name": "dataanalytics"
  },
  "language_info": {
   "codemirror_mode": {
    "name": "ipython",
    "version": 3
   },
   "file_extension": ".py",
   "mimetype": "text/x-python",
   "name": "python",
   "nbconvert_exporter": "python",
   "pygments_lexer": "ipython3",
   "version": "3.12.7"
  }
 },
 "nbformat": 4,
 "nbformat_minor": 5
}
