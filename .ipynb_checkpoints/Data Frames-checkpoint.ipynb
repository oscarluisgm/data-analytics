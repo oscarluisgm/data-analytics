{
 "cells": [
  {
   "cell_type": "code",
   "execution_count": 1,
   "id": "37c09701-7be4-4db9-891d-2875792a2332",
   "metadata": {},
   "outputs": [],
   "source": [
    "import sys\n",
    "sys.path.append('/home/oscar/py_envs/lib/python3.12/site-packages')"
   ]
  },
  {
   "cell_type": "code",
   "execution_count": 2,
   "id": "4bdfd5c8-3485-498e-a92b-36930b5cff47",
   "metadata": {},
   "outputs": [],
   "source": [
    "import numpy as np\n",
    "import pandas as pd"
   ]
  },
  {
   "cell_type": "markdown",
   "id": "702e7de2-3b04-4805-ba11-f48661aeec61",
   "metadata": {},
   "source": [
    "# DATAFRAME\n",
    "\n",
    "A Dataframe column is like a Serie"
   ]
  },
  {
   "cell_type": "code",
   "execution_count": 13,
   "id": "87884475-d079-4b3b-8b9a-16a5bee60039",
   "metadata": {},
   "outputs": [],
   "source": [
    "D=np.random.randint(100, size=(1,6), dtype=\"int8\")"
   ]
  },
  {
   "cell_type": "code",
   "execution_count": 14,
   "id": "1d63afa8-32ff-4d2a-b4ea-5ff974019342",
   "metadata": {},
   "outputs": [
    {
     "data": {
      "text/plain": [
       "array([[42, 63, 19, 76, 27,  8]], dtype=int8)"
      ]
     },
     "execution_count": 14,
     "metadata": {},
     "output_type": "execute_result"
    }
   ],
   "source": [
    "D"
   ]
  },
  {
   "cell_type": "code",
   "execution_count": 29,
   "id": "8e9ab92c-4519-4e4b-a386-0dfbb0d20ee1",
   "metadata": {},
   "outputs": [],
   "source": [
    "df=pd.DataFrame({\n",
    "    \"Population\" : [42, 63, 19, 76, 27,  8],\n",
    "    \"GDP\" : [\n",
    "        17648125,\n",
    "        56894236,\n",
    "        15182159,\n",
    "        15418415,\n",
    "        41541541,\n",
    "        46549863\n",
    "    ],\n",
    "    \"Surface Area\":[\n",
    "        151854,\n",
    "        416414,\n",
    "        4151664,\n",
    "        251854,\n",
    "        154185,\n",
    "        1515\n",
    "    ],\n",
    "    \"HDI\":[\n",
    "        0.91,\n",
    "        0.89,\n",
    "        0.88,\n",
    "        0.90,\n",
    "        0.897,\n",
    "        0.91    \n",
    "    ],\n",
    "    \"Continent\":[\n",
    "        \"Europe\",\n",
    "        \"America\",\n",
    "        \"Asia\",\n",
    "        \"America\",\n",
    "        \"Europe\",\n",
    "        \"America\"\n",
    "    ] \n",
    "}, columns=[\"Population\", \"GDP\", \"Surface Area\", \"HDI\", \"Continent\"])\n",
    "\n",
    "# the columns attribute is optional"
   ]
  },
  {
   "cell_type": "code",
   "execution_count": 44,
   "id": "455bce2b-f87f-437f-8b82-9627fd64dca6",
   "metadata": {},
   "outputs": [],
   "source": [
    "df.index=[\"Germany\",\"Argentina\",\"Japan\",\"United States\",\"Italy\",\"Canada\"]"
   ]
  },
  {
   "cell_type": "code",
   "execution_count": 53,
   "id": "f6386ad8-cc53-408e-9146-be91d4cb2cd5",
   "metadata": {},
   "outputs": [
    {
     "data": {
      "text/html": [
       "<div>\n",
       "<style scoped>\n",
       "    .dataframe tbody tr th:only-of-type {\n",
       "        vertical-align: middle;\n",
       "    }\n",
       "\n",
       "    .dataframe tbody tr th {\n",
       "        vertical-align: top;\n",
       "    }\n",
       "\n",
       "    .dataframe thead th {\n",
       "        text-align: right;\n",
       "    }\n",
       "</style>\n",
       "<table border=\"1\" class=\"dataframe\">\n",
       "  <thead>\n",
       "    <tr style=\"text-align: right;\">\n",
       "      <th></th>\n",
       "      <th>Population</th>\n",
       "      <th>GDP</th>\n",
       "      <th>Surface Area</th>\n",
       "      <th>HDI</th>\n",
       "      <th>Continent</th>\n",
       "    </tr>\n",
       "  </thead>\n",
       "  <tbody>\n",
       "    <tr>\n",
       "      <th>Germany</th>\n",
       "      <td>42</td>\n",
       "      <td>17648125</td>\n",
       "      <td>151854</td>\n",
       "      <td>0.910</td>\n",
       "      <td>Europe</td>\n",
       "    </tr>\n",
       "    <tr>\n",
       "      <th>Argentina</th>\n",
       "      <td>63</td>\n",
       "      <td>56894236</td>\n",
       "      <td>416414</td>\n",
       "      <td>0.890</td>\n",
       "      <td>America</td>\n",
       "    </tr>\n",
       "    <tr>\n",
       "      <th>Japan</th>\n",
       "      <td>19</td>\n",
       "      <td>15182159</td>\n",
       "      <td>4151664</td>\n",
       "      <td>0.880</td>\n",
       "      <td>Asia</td>\n",
       "    </tr>\n",
       "    <tr>\n",
       "      <th>United States</th>\n",
       "      <td>76</td>\n",
       "      <td>15418415</td>\n",
       "      <td>251854</td>\n",
       "      <td>0.900</td>\n",
       "      <td>America</td>\n",
       "    </tr>\n",
       "    <tr>\n",
       "      <th>Italy</th>\n",
       "      <td>27</td>\n",
       "      <td>41541541</td>\n",
       "      <td>154185</td>\n",
       "      <td>0.897</td>\n",
       "      <td>Europe</td>\n",
       "    </tr>\n",
       "    <tr>\n",
       "      <th>Canada</th>\n",
       "      <td>8</td>\n",
       "      <td>46549863</td>\n",
       "      <td>1515</td>\n",
       "      <td>0.910</td>\n",
       "      <td>America</td>\n",
       "    </tr>\n",
       "  </tbody>\n",
       "</table>\n",
       "</div>"
      ],
      "text/plain": [
       "               Population       GDP  Surface Area    HDI Continent\n",
       "Germany                42  17648125        151854  0.910    Europe\n",
       "Argentina              63  56894236        416414  0.890   America\n",
       "Japan                  19  15182159       4151664  0.880      Asia\n",
       "United States          76  15418415        251854  0.900   America\n",
       "Italy                  27  41541541        154185  0.897    Europe\n",
       "Canada                  8  46549863          1515  0.910   America"
      ]
     },
     "execution_count": 53,
     "metadata": {},
     "output_type": "execute_result"
    }
   ],
   "source": [
    "# a DataFrame is pretty much like a 2D NunPy array\n",
    "\n",
    "df"
   ]
  },
  {
   "cell_type": "markdown",
   "id": "2c5b0511-d54e-400a-930a-c8b0143c6ce1",
   "metadata": {},
   "source": [
    "## Pandas Functions"
   ]
  },
  {
   "cell_type": "code",
   "execution_count": 56,
   "id": "c7627627-a548-42d4-9c68-fea5097f8859",
   "metadata": {},
   "outputs": [
    {
     "data": {
      "text/plain": [
       "Index(['Population', 'GDP', 'Surface Area', 'HDI', 'Continent'], dtype='object')"
      ]
     },
     "execution_count": 56,
     "metadata": {},
     "output_type": "execute_result"
    }
   ],
   "source": [
    "df.columns"
   ]
  },
  {
   "cell_type": "code",
   "execution_count": 57,
   "id": "cfa4673f-9413-48c7-bc55-5298241416c5",
   "metadata": {},
   "outputs": [
    {
     "data": {
      "text/plain": [
       "30"
      ]
     },
     "execution_count": 57,
     "metadata": {},
     "output_type": "execute_result"
    }
   ],
   "source": [
    "df.size"
   ]
  },
  {
   "cell_type": "code",
   "execution_count": 58,
   "id": "cf5ecdd6-565e-48d9-9d2b-a0e277884413",
   "metadata": {},
   "outputs": [
    {
     "name": "stdout",
     "output_type": "stream",
     "text": [
      "<class 'pandas.core.frame.DataFrame'>\n",
      "Index: 6 entries, Germany to Canada\n",
      "Data columns (total 5 columns):\n",
      " #   Column        Non-Null Count  Dtype  \n",
      "---  ------        --------------  -----  \n",
      " 0   Population    6 non-null      int64  \n",
      " 1   GDP           6 non-null      int64  \n",
      " 2   Surface Area  6 non-null      int64  \n",
      " 3   HDI           6 non-null      float64\n",
      " 4   Continent     6 non-null      object \n",
      "dtypes: float64(1), int64(3), object(1)\n",
      "memory usage: 288.0+ bytes\n"
     ]
    }
   ],
   "source": [
    "df.info()"
   ]
  },
  {
   "cell_type": "code",
   "execution_count": 59,
   "id": "60591c62-ea06-43a3-9bf1-de561db3cece",
   "metadata": {},
   "outputs": [
    {
     "data": {
      "text/plain": [
       "(6, 5)"
      ]
     },
     "execution_count": 59,
     "metadata": {},
     "output_type": "execute_result"
    }
   ],
   "source": [
    "df.shape"
   ]
  },
  {
   "cell_type": "code",
   "execution_count": 60,
   "id": "9a63be16-6ffd-46e1-89dd-3a1fe3a4d0de",
   "metadata": {},
   "outputs": [
    {
     "data": {
      "text/html": [
       "<div>\n",
       "<style scoped>\n",
       "    .dataframe tbody tr th:only-of-type {\n",
       "        vertical-align: middle;\n",
       "    }\n",
       "\n",
       "    .dataframe tbody tr th {\n",
       "        vertical-align: top;\n",
       "    }\n",
       "\n",
       "    .dataframe thead th {\n",
       "        text-align: right;\n",
       "    }\n",
       "</style>\n",
       "<table border=\"1\" class=\"dataframe\">\n",
       "  <thead>\n",
       "    <tr style=\"text-align: right;\">\n",
       "      <th></th>\n",
       "      <th>Population</th>\n",
       "      <th>GDP</th>\n",
       "      <th>Surface Area</th>\n",
       "      <th>HDI</th>\n",
       "    </tr>\n",
       "  </thead>\n",
       "  <tbody>\n",
       "    <tr>\n",
       "      <th>count</th>\n",
       "      <td>6.000000</td>\n",
       "      <td>6.000000e+00</td>\n",
       "      <td>6.000000e+00</td>\n",
       "      <td>6.000000</td>\n",
       "    </tr>\n",
       "    <tr>\n",
       "      <th>mean</th>\n",
       "      <td>39.166667</td>\n",
       "      <td>3.220572e+07</td>\n",
       "      <td>8.545810e+05</td>\n",
       "      <td>0.897833</td>\n",
       "    </tr>\n",
       "    <tr>\n",
       "      <th>std</th>\n",
       "      <td>26.301458</td>\n",
       "      <td>1.836286e+07</td>\n",
       "      <td>1.620995e+06</td>\n",
       "      <td>0.011669</td>\n",
       "    </tr>\n",
       "    <tr>\n",
       "      <th>min</th>\n",
       "      <td>8.000000</td>\n",
       "      <td>1.518216e+07</td>\n",
       "      <td>1.515000e+03</td>\n",
       "      <td>0.880000</td>\n",
       "    </tr>\n",
       "    <tr>\n",
       "      <th>25%</th>\n",
       "      <td>21.000000</td>\n",
       "      <td>1.597584e+07</td>\n",
       "      <td>1.524368e+05</td>\n",
       "      <td>0.891750</td>\n",
       "    </tr>\n",
       "    <tr>\n",
       "      <th>50%</th>\n",
       "      <td>34.500000</td>\n",
       "      <td>2.959483e+07</td>\n",
       "      <td>2.030195e+05</td>\n",
       "      <td>0.898500</td>\n",
       "    </tr>\n",
       "    <tr>\n",
       "      <th>75%</th>\n",
       "      <td>57.750000</td>\n",
       "      <td>4.529778e+07</td>\n",
       "      <td>3.752740e+05</td>\n",
       "      <td>0.907500</td>\n",
       "    </tr>\n",
       "    <tr>\n",
       "      <th>max</th>\n",
       "      <td>76.000000</td>\n",
       "      <td>5.689424e+07</td>\n",
       "      <td>4.151664e+06</td>\n",
       "      <td>0.910000</td>\n",
       "    </tr>\n",
       "  </tbody>\n",
       "</table>\n",
       "</div>"
      ],
      "text/plain": [
       "       Population           GDP  Surface Area       HDI\n",
       "count    6.000000  6.000000e+00  6.000000e+00  6.000000\n",
       "mean    39.166667  3.220572e+07  8.545810e+05  0.897833\n",
       "std     26.301458  1.836286e+07  1.620995e+06  0.011669\n",
       "min      8.000000  1.518216e+07  1.515000e+03  0.880000\n",
       "25%     21.000000  1.597584e+07  1.524368e+05  0.891750\n",
       "50%     34.500000  2.959483e+07  2.030195e+05  0.898500\n",
       "75%     57.750000  4.529778e+07  3.752740e+05  0.907500\n",
       "max     76.000000  5.689424e+07  4.151664e+06  0.910000"
      ]
     },
     "execution_count": 60,
     "metadata": {},
     "output_type": "execute_result"
    }
   ],
   "source": [
    "df.describe()"
   ]
  },
  {
   "cell_type": "code",
   "execution_count": 61,
   "id": "c13723a6-9a14-4d16-9df7-111cde98fbaa",
   "metadata": {},
   "outputs": [
    {
     "data": {
      "text/plain": [
       "Population        int64\n",
       "GDP               int64\n",
       "Surface Area      int64\n",
       "HDI             float64\n",
       "Continent        object\n",
       "dtype: object"
      ]
     },
     "execution_count": 61,
     "metadata": {},
     "output_type": "execute_result"
    }
   ],
   "source": [
    "# dtypes (pandas) not dtype as in numpy\n",
    "\n",
    "df.dtypes"
   ]
  },
  {
   "cell_type": "code",
   "execution_count": 62,
   "id": "13b06aa3-3075-46d7-9ea0-edc0569b3524",
   "metadata": {},
   "outputs": [
    {
     "data": {
      "text/plain": [
       "int64      3\n",
       "float64    1\n",
       "object     1\n",
       "Name: count, dtype: int64"
      ]
     },
     "execution_count": 62,
     "metadata": {},
     "output_type": "execute_result"
    }
   ],
   "source": [
    "df.dtypes.value_counts()"
   ]
  },
  {
   "cell_type": "code",
   "execution_count": null,
   "id": "c7dcb75f-dece-4e75-b43c-7de1169752b6",
   "metadata": {},
   "outputs": [],
   "source": []
  }
 ],
 "metadata": {
  "kernelspec": {
   "display_name": "dataAnalytics",
   "language": "python",
   "name": "dataanalytics"
  },
  "language_info": {
   "codemirror_mode": {
    "name": "ipython",
    "version": 3
   },
   "file_extension": ".py",
   "mimetype": "text/x-python",
   "name": "python",
   "nbconvert_exporter": "python",
   "pygments_lexer": "ipython3",
   "version": "3.12.7"
  }
 },
 "nbformat": 4,
 "nbformat_minor": 5
}
