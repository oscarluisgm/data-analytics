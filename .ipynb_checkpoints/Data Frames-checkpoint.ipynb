{
 "cells": [
  {
   "cell_type": "code",
   "execution_count": 1,
   "id": "37c09701-7be4-4db9-891d-2875792a2332",
   "metadata": {},
   "outputs": [],
   "source": [
    "import sys\n",
    "sys.path.append('/home/oscar/py_envs/lib/python3.12/site-packages')"
   ]
  },
  {
   "cell_type": "code",
   "execution_count": 2,
   "id": "4bdfd5c8-3485-498e-a92b-36930b5cff47",
   "metadata": {},
   "outputs": [],
   "source": [
    "import numpy as np\n",
    "import pandas as pd"
   ]
  },
  {
   "cell_type": "markdown",
   "id": "702e7de2-3b04-4805-ba11-f48661aeec61",
   "metadata": {},
   "source": [
    "# DATAFRAME\n",
    "\n",
    "A Dataframe column is like a Serie"
   ]
  },
  {
   "cell_type": "markdown",
   "id": "3530af78-4360-4a9f-8e37-f2ad8b351712",
   "metadata": {},
   "source": []
  }
 ],
 "metadata": {
  "kernelspec": {
   "display_name": "dataAnalytics",
   "language": "python",
   "name": "dataanalytics"
  },
  "language_info": {
   "codemirror_mode": {
    "name": "ipython",
    "version": 3
   },
   "file_extension": ".py",
   "mimetype": "text/x-python",
   "name": "python",
   "nbconvert_exporter": "python",
   "pygments_lexer": "ipython3",
   "version": "3.12.7"
  }
 },
 "nbformat": 4,
 "nbformat_minor": 5
}
